{
  "cells": [
    {
      "cell_type": "markdown",
      "id": "829cb75b-f14e-4ba8-9195-7ba929a7d656",
      "metadata": {
        "id": "829cb75b-f14e-4ba8-9195-7ba929a7d656",
        "tags": []
      },
      "source": [
        "# <center> Проект: Анализ вакансий из HeadHunter\n",
        "   "
      ]
    },
    {
      "cell_type": "code",
      "execution_count": 1,
      "id": "dccfde33-2452-43fb-a8a5-5c6ebc02a71d",
      "metadata": {
        "id": "dccfde33-2452-43fb-a8a5-5c6ebc02a71d"
      },
      "outputs": [],
      "source": [
        "import pandas as pd\n",
        "import psycopg2\n",
        "\n",
        "# Подавляем warning о испольтзовании SQLAlchemy connectable\n",
        "import warnings\n",
        "warnings.simplefilter(action = 'ignore', category=UserWarning)"
      ]
    },
    {
      "cell_type": "code",
      "execution_count": 2,
      "id": "d945d3a9",
      "metadata": {},
      "outputs": [],
      "source": [
        "# в корневой папке с проектом создаём файл .env туда переносим 5 переменных\n",
        "# во кладке source control добавляем .env файл в gitignore\n",
        "\n",
        "DBNAME = 'project_sql'\n",
        "USER = 'skillfactory'\n",
        "PASSWORD = 'cCkxxLVrDE8EbvjueeMedPKt'\n",
        "HOST = '84.201.134.129'\n",
        "PORT = 5432"
      ]
    },
    {
      "cell_type": "code",
      "execution_count": null,
      "id": "97ff1cad",
      "metadata": {},
      "outputs": [],
      "source": [
        "# теперь мы можем используя dotenv подгрузить значения этих переменных сразу в код\n",
        "\n",
        "import os\n",
        "from dotenv import load_dotenv\n",
        "\n",
        "load_dotenv()\n",
        "DBNAME = os.getenv(\"DBNAME\")\n",
        "USER = os.getenv(\"USER\")\n",
        "PASSWORD = os.getenv(\"PASSWORD\")\n",
        "HOST = os.getenv(\"HOST\")\n",
        "PORT = os.getenv(\"PORT\")"
      ]
    },
    {
      "cell_type": "code",
      "execution_count": 3,
      "id": "G4X_q8KBf7SF",
      "metadata": {
        "id": "G4X_q8KBf7SF"
      },
      "outputs": [],
      "source": [
        "connection = psycopg2.connect(\n",
        "    dbname=DBNAME,\n",
        "    user=USER,\n",
        "    host=HOST,\n",
        "    password=PASSWORD,\n",
        "    port=PORT\n",
        ")"
      ]
    },
    {
      "cell_type": "markdown",
      "id": "0dc6476b-7a00-44f1-ac93-6e3baed33a29",
      "metadata": {
        "id": "0dc6476b-7a00-44f1-ac93-6e3baed33a29"
      },
      "source": [
        "# Юнит 3. Предварительный анализ данных"
      ]
    },
    {
      "cell_type": "markdown",
      "id": "889782b6-8d1c-410e-8920-e57f27917c64",
      "metadata": {
        "id": "889782b6-8d1c-410e-8920-e57f27917c64"
      },
      "source": [
        "1. Напишите запрос, который посчитает количество вакансий в нашей базе (вакансии находятся в таблице vacancies). "
      ]
    },
    {
      "cell_type": "code",
      "execution_count": 4,
      "id": "bc39e68e-ed02-4ee2-9235-7258a2f867a8",
      "metadata": {
        "id": "bc39e68e-ed02-4ee2-9235-7258a2f867a8"
      },
      "outputs": [],
      "source": [
        "# текст запроса\n",
        "query_3_1 = f'''\n",
        "select \n",
        "        count(*) as vacancies_cnt\n",
        "    from public.vacancies\n",
        "'''"
      ]
    },
    {
      "cell_type": "code",
      "execution_count": 5,
      "id": "7mAwtsk4hEHY",
      "metadata": {
        "id": "7mAwtsk4hEHY"
      },
      "outputs": [
        {
          "name": "stdout",
          "output_type": "stream",
          "text": [
            "Количество вакансий: 49197\n"
          ]
        }
      ],
      "source": [
        "# результат запроса\n",
        "df = pd.read_sql_query(query_3_1, connection)\n",
        "print( f'Количество вакансий: {df[\"vacancies_cnt\"].iloc[0]}' )\n"
      ]
    },
    {
      "cell_type": "markdown",
      "id": "b583485d-1f9e-494e-ada4-80ffff7c53d6",
      "metadata": {
        "id": "b583485d-1f9e-494e-ada4-80ffff7c53d6"
      },
      "source": [
        "2. Напишите запрос, который посчитает количество работодателей (таблица employers). "
      ]
    },
    {
      "cell_type": "code",
      "execution_count": 6,
      "id": "5408c52c-3407-4a63-b25b-1aafa2322d28",
      "metadata": {
        "id": "5408c52c-3407-4a63-b25b-1aafa2322d28"
      },
      "outputs": [],
      "source": [
        "# текст запроса\n",
        "query_3_2 = f'''\n",
        "select \n",
        "        count(*) as employers_cnt\n",
        "    from public.employers\n",
        "'''"
      ]
    },
    {
      "cell_type": "code",
      "execution_count": 7,
      "id": "jVL4eshKhdqc",
      "metadata": {
        "id": "jVL4eshKhdqc"
      },
      "outputs": [
        {
          "name": "stdout",
          "output_type": "stream",
          "text": [
            "Количество работодателей: 23501\n"
          ]
        }
      ],
      "source": [
        "# результат запроса\n",
        "df = pd.read_sql_query(query_3_2, connection)\n",
        "print( f'Количество работодателей: {df[\"employers_cnt\"].iloc[0]}' )\n"
      ]
    },
    {
      "cell_type": "markdown",
      "id": "a2bfff1f-c975-4bf6-84be-2185d79dcb76",
      "metadata": {
        "id": "a2bfff1f-c975-4bf6-84be-2185d79dcb76"
      },
      "source": [
        "3. Посчитате с помощью запроса количество регионов (таблица areas)."
      ]
    },
    {
      "cell_type": "code",
      "execution_count": 8,
      "id": "1m8QJwBYhey6",
      "metadata": {
        "id": "1m8QJwBYhey6"
      },
      "outputs": [],
      "source": [
        "# текст запроса\n",
        "query_3_3 = f'''\n",
        "select \n",
        "        count(*) as areas_cnt\n",
        "    from public.areas\n",
        "'''"
      ]
    },
    {
      "cell_type": "code",
      "execution_count": 9,
      "id": "EZsn9tlfhe7f",
      "metadata": {
        "id": "EZsn9tlfhe7f"
      },
      "outputs": [
        {
          "name": "stdout",
          "output_type": "stream",
          "text": [
            "Количество регионов: 1362\n"
          ]
        }
      ],
      "source": [
        "# результат запроса\n",
        "df = pd.read_sql_query(query_3_3, connection)\n",
        "print( f'Количество регионов: {df[\"areas_cnt\"].iloc[0]}' )"
      ]
    },
    {
      "cell_type": "markdown",
      "id": "41bb59f3-53cc-4a67-a5bc-bedf573955e4",
      "metadata": {
        "id": "41bb59f3-53cc-4a67-a5bc-bedf573955e4"
      },
      "source": [
        "4. Посчитате с помощью запроса количество сфер деятельности в базе (таблица industries)."
      ]
    },
    {
      "cell_type": "code",
      "execution_count": 10,
      "id": "d286cf4c-707b-4cd2-9190-7ab3587d04a1",
      "metadata": {
        "id": "d286cf4c-707b-4cd2-9190-7ab3587d04a1"
      },
      "outputs": [],
      "source": [
        "# текст запроса\n",
        "query_3_4 = f'''\n",
        "select \n",
        "        count(*) as industries_cnt\n",
        "    from public.industries\n",
        "'''"
      ]
    },
    {
      "cell_type": "code",
      "execution_count": 11,
      "id": "JYAaoZ4qhfzW",
      "metadata": {
        "id": "JYAaoZ4qhfzW"
      },
      "outputs": [
        {
          "name": "stdout",
          "output_type": "stream",
          "text": [
            "Количество сфер деятельности: 294\n"
          ]
        }
      ],
      "source": [
        "# результат запроса\n",
        "df = pd.read_sql_query(query_3_4, connection)\n",
        "print( f'Количество сфер деятельности: {df[\"industries_cnt\"].iloc[0]}' )"
      ]
    },
    {
      "cell_type": "markdown",
      "id": "9a8a2181-6914-448b-85f1-38f5f18b8a93",
      "metadata": {
        "id": "9a8a2181-6914-448b-85f1-38f5f18b8a93"
      },
      "source": [
        "***"
      ]
    },
    {
      "cell_type": "markdown",
      "id": "8f0967a8",
      "metadata": {},
      "source": [
        "# выводы по предварительному анализу данных\n",
        "\n",
        "- 49197 вакансия;\n",
        "- 23501 работодатель;\n",
        "- 1362 регион;\n",
        "- 294 сфера деятельности.\n",
        "\n",
        "\n",
        "1. В среднем 1 работодатель дал 2 вакасии\n",
        "2. В среднем 167 вакансий на сферу деятельности\n",
        "3. В среднем 36 вакансий на регион\n",
        "\n",
        "Видим, что цифры не больщие, рынок стабилизорован и насыщен"
      ]
    },
    {
      "cell_type": "markdown",
      "id": "8d62a9f3-f64e-4fe7-bdac-c4dffa16155e",
      "metadata": {
        "id": "8d62a9f3-f64e-4fe7-bdac-c4dffa16155e"
      },
      "source": [
        "# Юнит 4. Детальный анализ вакансий"
      ]
    },
    {
      "cell_type": "markdown",
      "id": "93053d3d-b284-481a-9cf7-012d7014c0e0",
      "metadata": {
        "id": "93053d3d-b284-481a-9cf7-012d7014c0e0"
      },
      "source": [
        "1. Напишите запрос, который позволит узнать, сколько (cnt) вакансий в каждом регионе (area).\n",
        "Отсортируйте по количеству вакансий в порядке убывания."
      ]
    },
    {
      "cell_type": "code",
      "execution_count": 13,
      "id": "3f069da6-fdc9-4ae7-b514-fafe2675efd3",
      "metadata": {
        "id": "3f069da6-fdc9-4ae7-b514-fafe2675efd3"
      },
      "outputs": [],
      "source": [
        "# текст запроса\n",
        "query_4_1 = f'''\n",
        "select a.name, count( v.area_id ) as vacancies_cnt\n",
        "    from public.areas a\n",
        "    left join public.vacancies v on a.id = v.area_id\n",
        "    group by a.name, a.id\n",
        "    order by vacancies_cnt desc\n",
        "'''"
      ]
    },
    {
      "cell_type": "code",
      "execution_count": 14,
      "id": "P7QL86hrjhRJ",
      "metadata": {
        "id": "P7QL86hrjhRJ"
      },
      "outputs": [
        {
          "data": {
            "text/html": [
              "<div>\n",
              "<style scoped>\n",
              "    .dataframe tbody tr th:only-of-type {\n",
              "        vertical-align: middle;\n",
              "    }\n",
              "\n",
              "    .dataframe tbody tr th {\n",
              "        vertical-align: top;\n",
              "    }\n",
              "\n",
              "    .dataframe thead th {\n",
              "        text-align: right;\n",
              "    }\n",
              "</style>\n",
              "<table border=\"1\" class=\"dataframe\">\n",
              "  <thead>\n",
              "    <tr style=\"text-align: right;\">\n",
              "      <th></th>\n",
              "      <th>name</th>\n",
              "      <th>vacancies_cnt</th>\n",
              "    </tr>\n",
              "  </thead>\n",
              "  <tbody>\n",
              "    <tr>\n",
              "      <th>0</th>\n",
              "      <td>Москва</td>\n",
              "      <td>5333</td>\n",
              "    </tr>\n",
              "    <tr>\n",
              "      <th>1</th>\n",
              "      <td>Санкт-Петербург</td>\n",
              "      <td>2851</td>\n",
              "    </tr>\n",
              "    <tr>\n",
              "      <th>2</th>\n",
              "      <td>Минск</td>\n",
              "      <td>2112</td>\n",
              "    </tr>\n",
              "    <tr>\n",
              "      <th>3</th>\n",
              "      <td>Новосибирск</td>\n",
              "      <td>2006</td>\n",
              "    </tr>\n",
              "    <tr>\n",
              "      <th>4</th>\n",
              "      <td>Алматы</td>\n",
              "      <td>1892</td>\n",
              "    </tr>\n",
              "    <tr>\n",
              "      <th>...</th>\n",
              "      <td>...</td>\n",
              "      <td>...</td>\n",
              "    </tr>\n",
              "    <tr>\n",
              "      <th>1357</th>\n",
              "      <td>Балакирево</td>\n",
              "      <td>0</td>\n",
              "    </tr>\n",
              "    <tr>\n",
              "      <th>1358</th>\n",
              "      <td>Мексика</td>\n",
              "      <td>0</td>\n",
              "    </tr>\n",
              "    <tr>\n",
              "      <th>1359</th>\n",
              "      <td>Пугачев</td>\n",
              "      <td>0</td>\n",
              "    </tr>\n",
              "    <tr>\n",
              "      <th>1360</th>\n",
              "      <td>Долгоруково</td>\n",
              "      <td>0</td>\n",
              "    </tr>\n",
              "    <tr>\n",
              "      <th>1361</th>\n",
              "      <td>Республика Татарстан</td>\n",
              "      <td>0</td>\n",
              "    </tr>\n",
              "  </tbody>\n",
              "</table>\n",
              "<p>1362 rows × 2 columns</p>\n",
              "</div>"
            ],
            "text/plain": [
              "                      name  vacancies_cnt\n",
              "0                   Москва           5333\n",
              "1          Санкт-Петербург           2851\n",
              "2                    Минск           2112\n",
              "3              Новосибирск           2006\n",
              "4                   Алматы           1892\n",
              "...                    ...            ...\n",
              "1357            Балакирево              0\n",
              "1358               Мексика              0\n",
              "1359               Пугачев              0\n",
              "1360           Долгоруково              0\n",
              "1361  Республика Татарстан              0\n",
              "\n",
              "[1362 rows x 2 columns]"
            ]
          },
          "metadata": {},
          "output_type": "display_data"
        }
      ],
      "source": [
        "# результат запроса\n",
        "df = pd.read_sql_query(query_4_1, connection)\n",
        "display( df )"
      ]
    },
    {
      "cell_type": "markdown",
      "id": "4266f0b6-1646-492a-88b4-2f6a46502135",
      "metadata": {
        "id": "4266f0b6-1646-492a-88b4-2f6a46502135"
      },
      "source": [
        "2. Напишите запрос, чтобы определить у какого количества вакансий заполнено хотя бы одно из двух полей с зарплатой."
      ]
    },
    {
      "cell_type": "code",
      "execution_count": 15,
      "id": "0c44b350-72eb-4d65-8b54-a1fc449ba9fd",
      "metadata": {
        "id": "0c44b350-72eb-4d65-8b54-a1fc449ba9fd"
      },
      "outputs": [],
      "source": [
        "# текст запроса\n",
        "query_4_2 = f'''\n",
        "select count(*) as vacancies_cnt\n",
        "    from public.vacancies v\n",
        "    where\n",
        "        v.salary_from is not null or v.salary_to is not null\n",
        "'''"
      ]
    },
    {
      "cell_type": "code",
      "execution_count": 16,
      "id": "rhvwaMDkoWTi",
      "metadata": {
        "id": "rhvwaMDkoWTi"
      },
      "outputs": [
        {
          "name": "stdout",
          "output_type": "stream",
          "text": [
            "Количество вакансий с непустыми полями с зарплатой: 24073\n"
          ]
        }
      ],
      "source": [
        "# результат запроса\n",
        "df = pd.read_sql_query(query_4_2, connection)\n",
        "print( f'Количество вакансий с непустыми полями с зарплатой: {df[\"vacancies_cnt\"].iloc[0]}' )\n"
      ]
    },
    {
      "cell_type": "markdown",
      "id": "635c4d5d-f323-4c66-b428-50a088120aa0",
      "metadata": {
        "id": "635c4d5d-f323-4c66-b428-50a088120aa0"
      },
      "source": [
        "3. Найдите средние значения для нижней и верхней границы зарплатной вилки. Округлите значения до целого."
      ]
    },
    {
      "cell_type": "code",
      "execution_count": 17,
      "id": "603cdbe4-0ec3-4106-8eaf-c73fcdd29165",
      "metadata": {
        "id": "603cdbe4-0ec3-4106-8eaf-c73fcdd29165"
      },
      "outputs": [],
      "source": [
        "# текст запроса\n",
        "query_4_3 = f'''\n",
        "select \n",
        "        round( avg( v.salary_from ), 0 )::int as salary_from_avg, \n",
        "        round( avg( v.salary_to ), 0 )::int as salary_to_avg\n",
        "    from public.vacancies v\n",
        "'''"
      ]
    },
    {
      "cell_type": "code",
      "execution_count": 18,
      "id": "pswpAb66ovZZ",
      "metadata": {
        "id": "pswpAb66ovZZ"
      },
      "outputs": [
        {
          "name": "stdout",
          "output_type": "stream",
          "text": [
            "Средняя нижняя граница заработной платы: 71065 руб\n",
            "Средняя верхняя граница заработной платы: 110537 руб\n"
          ]
        }
      ],
      "source": [
        "# результат запроса\n",
        "df = pd.read_sql_query(query_4_3, connection)\n",
        "print( f'Средняя нижняя граница заработной платы: {df[\"salary_from_avg\"].iloc[0]} руб\\nСредняя верхняя граница заработной платы: {df[\"salary_to_avg\"].iloc[0]} руб' )"
      ]
    },
    {
      "cell_type": "markdown",
      "id": "f3fdaec9-5fd3-4260-9cf5-1d7406b628a5",
      "metadata": {
        "id": "f3fdaec9-5fd3-4260-9cf5-1d7406b628a5"
      },
      "source": [
        "4. Напишите запрос, который выведет количество вакансий для каждого сочетания типа рабочего графика (schedule) и типа трудоустройства (employment), используемого в вакансиях. Результат отсортируйте по убыванию количества.\n"
      ]
    },
    {
      "cell_type": "code",
      "execution_count": 19,
      "id": "1ea710ec-871b-431e-9462-c7d0fd87011b",
      "metadata": {
        "id": "1ea710ec-871b-431e-9462-c7d0fd87011b"
      },
      "outputs": [],
      "source": [
        "# текст запроса\n",
        "# Для наглядности отсортируем еще по остальным полям. Это не повлияет на сортироку по убыванию количества\n",
        "query_4_4 = f'''\n",
        "select v.schedule, v.employment, count(*) as vacancies_cnt\n",
        "    from public.vacancies v\n",
        "    group by v.schedule, v.employment\n",
        "    order by vacancies_cnt desc, v.schedule, v.employment\n",
        "'''"
      ]
    },
    {
      "cell_type": "code",
      "execution_count": 20,
      "id": "lGUVqavdo4JQ",
      "metadata": {
        "id": "lGUVqavdo4JQ"
      },
      "outputs": [
        {
          "data": {
            "text/html": [
              "<div>\n",
              "<style scoped>\n",
              "    .dataframe tbody tr th:only-of-type {\n",
              "        vertical-align: middle;\n",
              "    }\n",
              "\n",
              "    .dataframe tbody tr th {\n",
              "        vertical-align: top;\n",
              "    }\n",
              "\n",
              "    .dataframe thead th {\n",
              "        text-align: right;\n",
              "    }\n",
              "</style>\n",
              "<table border=\"1\" class=\"dataframe\">\n",
              "  <thead>\n",
              "    <tr style=\"text-align: right;\">\n",
              "      <th></th>\n",
              "      <th>schedule</th>\n",
              "      <th>employment</th>\n",
              "      <th>vacancies_cnt</th>\n",
              "    </tr>\n",
              "  </thead>\n",
              "  <tbody>\n",
              "    <tr>\n",
              "      <th>0</th>\n",
              "      <td>Полный день</td>\n",
              "      <td>Полная занятость</td>\n",
              "      <td>35367</td>\n",
              "    </tr>\n",
              "    <tr>\n",
              "      <th>1</th>\n",
              "      <td>Удаленная работа</td>\n",
              "      <td>Полная занятость</td>\n",
              "      <td>7802</td>\n",
              "    </tr>\n",
              "    <tr>\n",
              "      <th>2</th>\n",
              "      <td>Гибкий график</td>\n",
              "      <td>Полная занятость</td>\n",
              "      <td>1593</td>\n",
              "    </tr>\n",
              "    <tr>\n",
              "      <th>3</th>\n",
              "      <td>Удаленная работа</td>\n",
              "      <td>Частичная занятость</td>\n",
              "      <td>1312</td>\n",
              "    </tr>\n",
              "    <tr>\n",
              "      <th>4</th>\n",
              "      <td>Сменный график</td>\n",
              "      <td>Полная занятость</td>\n",
              "      <td>940</td>\n",
              "    </tr>\n",
              "    <tr>\n",
              "      <th>5</th>\n",
              "      <td>Полный день</td>\n",
              "      <td>Стажировка</td>\n",
              "      <td>569</td>\n",
              "    </tr>\n",
              "    <tr>\n",
              "      <th>6</th>\n",
              "      <td>Вахтовый метод</td>\n",
              "      <td>Полная занятость</td>\n",
              "      <td>367</td>\n",
              "    </tr>\n",
              "    <tr>\n",
              "      <th>7</th>\n",
              "      <td>Полный день</td>\n",
              "      <td>Частичная занятость</td>\n",
              "      <td>347</td>\n",
              "    </tr>\n",
              "    <tr>\n",
              "      <th>8</th>\n",
              "      <td>Гибкий график</td>\n",
              "      <td>Частичная занятость</td>\n",
              "      <td>312</td>\n",
              "    </tr>\n",
              "    <tr>\n",
              "      <th>9</th>\n",
              "      <td>Полный день</td>\n",
              "      <td>Проектная работа</td>\n",
              "      <td>141</td>\n",
              "    </tr>\n",
              "    <tr>\n",
              "      <th>10</th>\n",
              "      <td>Удаленная работа</td>\n",
              "      <td>Проектная работа</td>\n",
              "      <td>133</td>\n",
              "    </tr>\n",
              "    <tr>\n",
              "      <th>11</th>\n",
              "      <td>Гибкий график</td>\n",
              "      <td>Стажировка</td>\n",
              "      <td>116</td>\n",
              "    </tr>\n",
              "    <tr>\n",
              "      <th>12</th>\n",
              "      <td>Сменный график</td>\n",
              "      <td>Частичная занятость</td>\n",
              "      <td>101</td>\n",
              "    </tr>\n",
              "    <tr>\n",
              "      <th>13</th>\n",
              "      <td>Удаленная работа</td>\n",
              "      <td>Стажировка</td>\n",
              "      <td>64</td>\n",
              "    </tr>\n",
              "    <tr>\n",
              "      <th>14</th>\n",
              "      <td>Гибкий график</td>\n",
              "      <td>Проектная работа</td>\n",
              "      <td>18</td>\n",
              "    </tr>\n",
              "    <tr>\n",
              "      <th>15</th>\n",
              "      <td>Сменный график</td>\n",
              "      <td>Стажировка</td>\n",
              "      <td>12</td>\n",
              "    </tr>\n",
              "    <tr>\n",
              "      <th>16</th>\n",
              "      <td>Вахтовый метод</td>\n",
              "      <td>Проектная работа</td>\n",
              "      <td>2</td>\n",
              "    </tr>\n",
              "    <tr>\n",
              "      <th>17</th>\n",
              "      <td>Сменный график</td>\n",
              "      <td>Проектная работа</td>\n",
              "      <td>1</td>\n",
              "    </tr>\n",
              "  </tbody>\n",
              "</table>\n",
              "</div>"
            ],
            "text/plain": [
              "            schedule           employment  vacancies_cnt\n",
              "0        Полный день     Полная занятость          35367\n",
              "1   Удаленная работа     Полная занятость           7802\n",
              "2      Гибкий график     Полная занятость           1593\n",
              "3   Удаленная работа  Частичная занятость           1312\n",
              "4     Сменный график     Полная занятость            940\n",
              "5        Полный день           Стажировка            569\n",
              "6     Вахтовый метод     Полная занятость            367\n",
              "7        Полный день  Частичная занятость            347\n",
              "8      Гибкий график  Частичная занятость            312\n",
              "9        Полный день     Проектная работа            141\n",
              "10  Удаленная работа     Проектная работа            133\n",
              "11     Гибкий график           Стажировка            116\n",
              "12    Сменный график  Частичная занятость            101\n",
              "13  Удаленная работа           Стажировка             64\n",
              "14     Гибкий график     Проектная работа             18\n",
              "15    Сменный график           Стажировка             12\n",
              "16    Вахтовый метод     Проектная работа              2\n",
              "17    Сменный график     Проектная работа              1"
            ]
          },
          "metadata": {},
          "output_type": "display_data"
        }
      ],
      "source": [
        "# результат запроса\n",
        "df = pd.read_sql_query(query_4_4, connection)\n",
        "display( df )"
      ]
    },
    {
      "cell_type": "markdown",
      "id": "0136ffee-0ead-4a6b-b608-61d1c753a438",
      "metadata": {
        "id": "0136ffee-0ead-4a6b-b608-61d1c753a438"
      },
      "source": [
        "5. Напишите запрос, выводящий значения поля Требуемый опыт работы (experience) в порядке возрастания количества вакансий, в которых указан данный вариант опыта. "
      ]
    },
    {
      "cell_type": "code",
      "execution_count": 21,
      "id": "5b3a8e79-f7ab-4008-b767-12aea3a205ea",
      "metadata": {
        "id": "5b3a8e79-f7ab-4008-b767-12aea3a205ea"
      },
      "outputs": [],
      "source": [
        "# текст запроса\n",
        "query_4_5 = f'''\n",
        "select v.experience, count(*) as vacancies_cnt\n",
        "    from public.vacancies v\n",
        "    group by v.experience\n",
        "    order by vacancies_cnt asc, v.experience\n",
        "'''"
      ]
    },
    {
      "cell_type": "code",
      "execution_count": 22,
      "id": "3Is64Y-hpDpq",
      "metadata": {
        "id": "3Is64Y-hpDpq"
      },
      "outputs": [
        {
          "data": {
            "text/html": [
              "<div>\n",
              "<style scoped>\n",
              "    .dataframe tbody tr th:only-of-type {\n",
              "        vertical-align: middle;\n",
              "    }\n",
              "\n",
              "    .dataframe tbody tr th {\n",
              "        vertical-align: top;\n",
              "    }\n",
              "\n",
              "    .dataframe thead th {\n",
              "        text-align: right;\n",
              "    }\n",
              "</style>\n",
              "<table border=\"1\" class=\"dataframe\">\n",
              "  <thead>\n",
              "    <tr style=\"text-align: right;\">\n",
              "      <th></th>\n",
              "      <th>experience</th>\n",
              "      <th>vacancies_cnt</th>\n",
              "    </tr>\n",
              "  </thead>\n",
              "  <tbody>\n",
              "    <tr>\n",
              "      <th>0</th>\n",
              "      <td>Более 6 лет</td>\n",
              "      <td>1337</td>\n",
              "    </tr>\n",
              "    <tr>\n",
              "      <th>1</th>\n",
              "      <td>Нет опыта</td>\n",
              "      <td>7197</td>\n",
              "    </tr>\n",
              "    <tr>\n",
              "      <th>2</th>\n",
              "      <td>От 3 до 6 лет</td>\n",
              "      <td>14511</td>\n",
              "    </tr>\n",
              "    <tr>\n",
              "      <th>3</th>\n",
              "      <td>От 1 года до 3 лет</td>\n",
              "      <td>26152</td>\n",
              "    </tr>\n",
              "  </tbody>\n",
              "</table>\n",
              "</div>"
            ],
            "text/plain": [
              "           experience  vacancies_cnt\n",
              "0         Более 6 лет           1337\n",
              "1           Нет опыта           7197\n",
              "2       От 3 до 6 лет          14511\n",
              "3  От 1 года до 3 лет          26152"
            ]
          },
          "metadata": {},
          "output_type": "display_data"
        }
      ],
      "source": [
        "# результат запроса\n",
        "df = pd.read_sql_query(query_4_5, connection)\n",
        "display( df )"
      ]
    },
    {
      "cell_type": "markdown",
      "id": "oq2b7n1QpIka",
      "metadata": {
        "id": "oq2b7n1QpIka"
      },
      "source": [
        "***"
      ]
    },
    {
      "cell_type": "markdown",
      "id": "ba7c1796",
      "metadata": {},
      "source": [
        "# выводы по детальному анализу вакансий\n",
        "1. Есть регионы без вакансий. В основном - это мелкие регионы (хотя есть и исключения - требуется дополнительный анализ). Вакансии - в крупных городах\n",
        "2. Более половины данных по вакансиям имеют не заполненные границы заработных плат. Это явление тоже требует дополнительный анализ.\n",
        "3. Средние значения нижней и верхней граний заработных плат отличается не в разы, а не слишком сильно. Предполагаю, что разница из-за региона (миллионник и поменьше), требуется дополнительный анализ.\n",
        "4. Наибольшей популярностью пользуются вакансии на полный рабочий день и полную занятость. Также в топе полный рабочий день. \n",
        "5. Наибольший спрос на специалистов с опытом работы от 1 до 3х лет, наименьший - на обладателей большого опыта. Имеющие максимальный опыт работы выбывают по естественным причинам (пенсия и тд). Большой спрос на специалистов 1-3 года возможно связан с текучкой кадров. "
      ]
    },
    {
      "cell_type": "markdown",
      "id": "7ea20ab6-04a7-40a0-adec-443a0e5a42c3",
      "metadata": {
        "id": "7ea20ab6-04a7-40a0-adec-443a0e5a42c3"
      },
      "source": [
        "# Юнит 5. Анализ работодателей"
      ]
    },
    {
      "cell_type": "markdown",
      "id": "968aed80-74ef-4ffb-b5bf-c65b84e9caea",
      "metadata": {
        "id": "968aed80-74ef-4ffb-b5bf-c65b84e9caea"
      },
      "source": [
        "1. Напишите запрос, который позволит узнать, какие работодатели находятся на первом и пятом месте по количеству вакансий."
      ]
    },
    {
      "cell_type": "code",
      "execution_count": 23,
      "id": "f2d62796-d400-4ec1-a675-88112739a50e",
      "metadata": {
        "id": "f2d62796-d400-4ec1-a675-88112739a50e"
      },
      "outputs": [],
      "source": [
        "# текст запроса\n",
        "query_5_1 = f'''\n",
        "with v_top5 as\n",
        "(\n",
        "select e.name, count( v.id ) as vacancies_cnt\n",
        "    from public.employers e\n",
        "    left join public.vacancies v on v.employer_id = e.id\n",
        "    group by e.id, e.name\n",
        "    order by vacancies_cnt desc\n",
        "    limit 5\n",
        ")\n",
        "\n",
        "(select * from v_top5 t limit 1)\n",
        "union all (select * from v_top5 t limit 1 offset 4)\n",
        "'''"
      ]
    },
    {
      "cell_type": "code",
      "execution_count": 24,
      "id": "64tOMkAxqkQk",
      "metadata": {
        "id": "64tOMkAxqkQk"
      },
      "outputs": [
        {
          "data": {
            "text/html": [
              "<div>\n",
              "<style scoped>\n",
              "    .dataframe tbody tr th:only-of-type {\n",
              "        vertical-align: middle;\n",
              "    }\n",
              "\n",
              "    .dataframe tbody tr th {\n",
              "        vertical-align: top;\n",
              "    }\n",
              "\n",
              "    .dataframe thead th {\n",
              "        text-align: right;\n",
              "    }\n",
              "</style>\n",
              "<table border=\"1\" class=\"dataframe\">\n",
              "  <thead>\n",
              "    <tr style=\"text-align: right;\">\n",
              "      <th></th>\n",
              "      <th>name</th>\n",
              "      <th>vacancies_cnt</th>\n",
              "    </tr>\n",
              "  </thead>\n",
              "  <tbody>\n",
              "    <tr>\n",
              "      <th>0</th>\n",
              "      <td>Яндекс</td>\n",
              "      <td>1933</td>\n",
              "    </tr>\n",
              "    <tr>\n",
              "      <th>1</th>\n",
              "      <td>Газпром нефть</td>\n",
              "      <td>331</td>\n",
              "    </tr>\n",
              "  </tbody>\n",
              "</table>\n",
              "</div>"
            ],
            "text/plain": [
              "            name  vacancies_cnt\n",
              "0         Яндекс           1933\n",
              "1  Газпром нефть            331"
            ]
          },
          "metadata": {},
          "output_type": "display_data"
        }
      ],
      "source": [
        "# результат запроса\n",
        "df = pd.read_sql_query(query_5_1, connection)\n",
        "display( df )"
      ]
    },
    {
      "cell_type": "markdown",
      "id": "68377cfc-b378-43dc-ab7d-1195abf2c515",
      "metadata": {
        "id": "68377cfc-b378-43dc-ab7d-1195abf2c515"
      },
      "source": [
        "2. Напишите запрос, который для каждого региона выведет количество работодателей и вакансий в нём.\n",
        "Среди регионов, в которых нет вакансий, найдите тот, в котором наибольшее количество работодателей.\n"
      ]
    },
    {
      "cell_type": "code",
      "execution_count": 25,
      "id": "dd7df27a-e3e8-412e-a21a-5d389b71e891",
      "metadata": {
        "id": "dd7df27a-e3e8-412e-a21a-5d389b71e891"
      },
      "outputs": [],
      "source": [
        "# текст запроса\n",
        "query_5_2 = f'''\n",
        "select \n",
        "        a.name, \n",
        "        count( distinct v.id ) as vacancies_cnt, \n",
        "        count( distinct e.id ) as employers_cnt\n",
        "    from public.areas a\n",
        "    join public.vacancies v on v.area_id = a.id\n",
        "    join public.employers e on v.employer_id = e.id\n",
        "    group by a.id, a.name\n",
        "\n",
        "union all\n",
        "(\n",
        "select \n",
        "        a.name, \n",
        "        0 as vacancies_cnt, \n",
        "        count( distinct e.id ) as employers_cnt\n",
        "    from public.areas a\n",
        "    join public.employers e on e.area = a.id\n",
        "    where not exists\n",
        "    (\n",
        "        select 1\n",
        "            from public.vacancies v \n",
        "            where v.area_id = a.id\n",
        "    )\n",
        "    group by a.id, a.name\n",
        "    order by employers_cnt desc\n",
        "    limit 1\n",
        ")\n",
        "'''\n"
      ]
    },
    {
      "cell_type": "code",
      "execution_count": 26,
      "id": "x1ikWbydrbf6",
      "metadata": {
        "id": "x1ikWbydrbf6"
      },
      "outputs": [
        {
          "data": {
            "text/html": [
              "<div>\n",
              "<style scoped>\n",
              "    .dataframe tbody tr th:only-of-type {\n",
              "        vertical-align: middle;\n",
              "    }\n",
              "\n",
              "    .dataframe tbody tr th {\n",
              "        vertical-align: top;\n",
              "    }\n",
              "\n",
              "    .dataframe thead th {\n",
              "        text-align: right;\n",
              "    }\n",
              "</style>\n",
              "<table border=\"1\" class=\"dataframe\">\n",
              "  <thead>\n",
              "    <tr style=\"text-align: right;\">\n",
              "      <th></th>\n",
              "      <th>name</th>\n",
              "      <th>vacancies_cnt</th>\n",
              "      <th>employers_cnt</th>\n",
              "    </tr>\n",
              "  </thead>\n",
              "  <tbody>\n",
              "    <tr>\n",
              "      <th>0</th>\n",
              "      <td>Москва</td>\n",
              "      <td>5333</td>\n",
              "      <td>2320</td>\n",
              "    </tr>\n",
              "    <tr>\n",
              "      <th>1</th>\n",
              "      <td>Санкт-Петербург</td>\n",
              "      <td>2851</td>\n",
              "      <td>1451</td>\n",
              "    </tr>\n",
              "    <tr>\n",
              "      <th>2</th>\n",
              "      <td>Екатеринбург</td>\n",
              "      <td>1698</td>\n",
              "      <td>742</td>\n",
              "    </tr>\n",
              "    <tr>\n",
              "      <th>3</th>\n",
              "      <td>Новосибирск</td>\n",
              "      <td>2006</td>\n",
              "      <td>802</td>\n",
              "    </tr>\n",
              "    <tr>\n",
              "      <th>4</th>\n",
              "      <td>Австрия</td>\n",
              "      <td>4</td>\n",
              "      <td>1</td>\n",
              "    </tr>\n",
              "    <tr>\n",
              "      <th>...</th>\n",
              "      <td>...</td>\n",
              "      <td>...</td>\n",
              "      <td>...</td>\n",
              "    </tr>\n",
              "    <tr>\n",
              "      <th>765</th>\n",
              "      <td>Актогай</td>\n",
              "      <td>1</td>\n",
              "      <td>1</td>\n",
              "    </tr>\n",
              "    <tr>\n",
              "      <th>766</th>\n",
              "      <td>Большие Вязёмы</td>\n",
              "      <td>1</td>\n",
              "      <td>1</td>\n",
              "    </tr>\n",
              "    <tr>\n",
              "      <th>767</th>\n",
              "      <td>Софьино (Раменский район)</td>\n",
              "      <td>2</td>\n",
              "      <td>2</td>\n",
              "    </tr>\n",
              "    <tr>\n",
              "      <th>768</th>\n",
              "      <td>Сириус</td>\n",
              "      <td>1</td>\n",
              "      <td>1</td>\n",
              "    </tr>\n",
              "    <tr>\n",
              "      <th>769</th>\n",
              "      <td>Россия</td>\n",
              "      <td>0</td>\n",
              "      <td>410</td>\n",
              "    </tr>\n",
              "  </tbody>\n",
              "</table>\n",
              "<p>770 rows × 3 columns</p>\n",
              "</div>"
            ],
            "text/plain": [
              "                          name  vacancies_cnt  employers_cnt\n",
              "0                       Москва           5333           2320\n",
              "1              Санкт-Петербург           2851           1451\n",
              "2                 Екатеринбург           1698            742\n",
              "3                  Новосибирск           2006            802\n",
              "4                      Австрия              4              1\n",
              "..                         ...            ...            ...\n",
              "765                    Актогай              1              1\n",
              "766             Большие Вязёмы              1              1\n",
              "767  Софьино (Раменский район)              2              2\n",
              "768                     Сириус              1              1\n",
              "769                     Россия              0            410\n",
              "\n",
              "[770 rows x 3 columns]"
            ]
          },
          "metadata": {},
          "output_type": "display_data"
        }
      ],
      "source": [
        "# результат запроса\n",
        "df = pd.read_sql_query(query_5_2, connection)\n",
        "display( df )"
      ]
    },
    {
      "cell_type": "markdown",
      "id": "f2fe0acb-ab1a-4e15-9326-2560e22d73c1",
      "metadata": {
        "id": "f2fe0acb-ab1a-4e15-9326-2560e22d73c1"
      },
      "source": [
        "3. Для каждого работодателя посчитайте количество регионов, в которых он публикует свои вакансии. Отсортируйте результат по убыванию количества.\n"
      ]
    },
    {
      "cell_type": "code",
      "execution_count": 27,
      "id": "6271f8ad-bd2e-4196-ae4a-5b39c4c1010e",
      "metadata": {
        "id": "6271f8ad-bd2e-4196-ae4a-5b39c4c1010e"
      },
      "outputs": [],
      "source": [
        "# текст запроса\n",
        "query_5_3 = f'''\n",
        "select e.name, count( distinct a.id ) as areas_cnt\n",
        "    from public.employers e\n",
        "    join public.vacancies v on v.employer_id = e.id\n",
        "    join public.areas a on v.area_id = a.id\n",
        "    group by e.id, e.name\n",
        "    order by areas_cnt desc\n",
        "'''"
      ]
    },
    {
      "cell_type": "code",
      "execution_count": 28,
      "id": "1EIvX3HasH4F",
      "metadata": {
        "id": "1EIvX3HasH4F"
      },
      "outputs": [
        {
          "data": {
            "text/html": [
              "<div>\n",
              "<style scoped>\n",
              "    .dataframe tbody tr th:only-of-type {\n",
              "        vertical-align: middle;\n",
              "    }\n",
              "\n",
              "    .dataframe tbody tr th {\n",
              "        vertical-align: top;\n",
              "    }\n",
              "\n",
              "    .dataframe thead th {\n",
              "        text-align: right;\n",
              "    }\n",
              "</style>\n",
              "<table border=\"1\" class=\"dataframe\">\n",
              "  <thead>\n",
              "    <tr style=\"text-align: right;\">\n",
              "      <th></th>\n",
              "      <th>name</th>\n",
              "      <th>areas_cnt</th>\n",
              "    </tr>\n",
              "  </thead>\n",
              "  <tbody>\n",
              "    <tr>\n",
              "      <th>0</th>\n",
              "      <td>Яндекс</td>\n",
              "      <td>181</td>\n",
              "    </tr>\n",
              "    <tr>\n",
              "      <th>1</th>\n",
              "      <td>Ростелеком</td>\n",
              "      <td>152</td>\n",
              "    </tr>\n",
              "    <tr>\n",
              "      <th>2</th>\n",
              "      <td>Спецремонт</td>\n",
              "      <td>116</td>\n",
              "    </tr>\n",
              "    <tr>\n",
              "      <th>3</th>\n",
              "      <td>Поляков Денис Иванович</td>\n",
              "      <td>88</td>\n",
              "    </tr>\n",
              "    <tr>\n",
              "      <th>4</th>\n",
              "      <td>ООО ЕФИН</td>\n",
              "      <td>71</td>\n",
              "    </tr>\n",
              "    <tr>\n",
              "      <th>...</th>\n",
              "      <td>...</td>\n",
              "      <td>...</td>\n",
              "    </tr>\n",
              "    <tr>\n",
              "      <th>14901</th>\n",
              "      <td>НПП Авиатрон</td>\n",
              "      <td>1</td>\n",
              "    </tr>\n",
              "    <tr>\n",
              "      <th>14902</th>\n",
              "      <td>Центр дистанционных торгов</td>\n",
              "      <td>1</td>\n",
              "    </tr>\n",
              "    <tr>\n",
              "      <th>14903</th>\n",
              "      <td>Городские Телекоммуникационные Системы</td>\n",
              "      <td>1</td>\n",
              "    </tr>\n",
              "    <tr>\n",
              "      <th>14904</th>\n",
              "      <td>Введенский, Отель</td>\n",
              "      <td>1</td>\n",
              "    </tr>\n",
              "    <tr>\n",
              "      <th>14905</th>\n",
              "      <td>Группа Компаний Автоимпорт</td>\n",
              "      <td>1</td>\n",
              "    </tr>\n",
              "  </tbody>\n",
              "</table>\n",
              "<p>14906 rows × 2 columns</p>\n",
              "</div>"
            ],
            "text/plain": [
              "                                         name  areas_cnt\n",
              "0                                      Яндекс        181\n",
              "1                                  Ростелеком        152\n",
              "2                                  Спецремонт        116\n",
              "3                      Поляков Денис Иванович         88\n",
              "4                                   ООО ЕФИН          71\n",
              "...                                       ...        ...\n",
              "14901                            НПП Авиатрон          1\n",
              "14902              Центр дистанционных торгов          1\n",
              "14903  Городские Телекоммуникационные Системы          1\n",
              "14904                       Введенский, Отель          1\n",
              "14905              Группа Компаний Автоимпорт          1\n",
              "\n",
              "[14906 rows x 2 columns]"
            ]
          },
          "metadata": {},
          "output_type": "display_data"
        }
      ],
      "source": [
        "# результат запроса\n",
        "df = pd.read_sql_query(query_5_3, connection)\n",
        "display( df )"
      ]
    },
    {
      "cell_type": "markdown",
      "id": "eab2206d-d95b-468b-8e5f-34381abf0ce7",
      "metadata": {
        "id": "eab2206d-d95b-468b-8e5f-34381abf0ce7"
      },
      "source": [
        "4. Напишите запрос для подсчёта количества работодателей, у которых не указана сфера деятельности. "
      ]
    },
    {
      "cell_type": "code",
      "execution_count": 29,
      "id": "80defb23-bfb1-4a18-8be6-bf36aa7165d5",
      "metadata": {
        "id": "80defb23-bfb1-4a18-8be6-bf36aa7165d5"
      },
      "outputs": [],
      "source": [
        "# текст запроса\n",
        "query_5_4 = f'''\n",
        "select count(*) as employers_cnt\n",
        "    from public.employers e\n",
        "    \n",
        "    left join public.employers_industries ei on ei.employer_id = e.id\n",
        "    left join public.industries i on ei.industry_id = i.id\n",
        "    where\n",
        "        i.id is null\n",
        "'''"
      ]
    },
    {
      "cell_type": "code",
      "execution_count": 30,
      "id": "Dp_yCx6ysQSu",
      "metadata": {
        "id": "Dp_yCx6ysQSu"
      },
      "outputs": [
        {
          "name": "stdout",
          "output_type": "stream",
          "text": [
            "У 8419 работодателей не указана сфера деятельности\n"
          ]
        }
      ],
      "source": [
        "# результат запроса\n",
        "df = pd.read_sql_query(query_5_4, connection)\n",
        "print( f'У {df[\"employers_cnt\"].iloc[0]} работодателей не указана сфера деятельности' )\n"
      ]
    },
    {
      "cell_type": "markdown",
      "id": "0112af31-f6b0-4e3b-82ab-71296e752e5e",
      "metadata": {
        "id": "0112af31-f6b0-4e3b-82ab-71296e752e5e"
      },
      "source": [
        "5. Напишите запрос, чтобы узнать название компании, находящейся на третьем месте в алфавитном списке (по названию) компаний, у которых указано четыре сферы деятельности. "
      ]
    },
    {
      "cell_type": "code",
      "execution_count": 31,
      "id": "973b0cfc-a972-470a-8b4a-68744ef220c4",
      "metadata": {
        "id": "973b0cfc-a972-470a-8b4a-68744ef220c4"
      },
      "outputs": [],
      "source": [
        "# текст запроса\n",
        "query_5_5 = f'''\n",
        "select e.name\n",
        "    from public.employers e\n",
        "    join public.employers_industries ei on ei.employer_id = e.id\n",
        "    join public.industries i on ei.industry_id = i.id\n",
        "    group by e.name, e.id\n",
        "    having count(*) = 4\n",
        "    order by lower( e.name )\n",
        "    limit 1\n",
        "    offset 2\n",
        "'''"
      ]
    },
    {
      "cell_type": "code",
      "execution_count": 32,
      "id": "xsPtpp8EsaED",
      "metadata": {
        "id": "xsPtpp8EsaED"
      },
      "outputs": [
        {
          "data": {
            "text/html": [
              "<div>\n",
              "<style scoped>\n",
              "    .dataframe tbody tr th:only-of-type {\n",
              "        vertical-align: middle;\n",
              "    }\n",
              "\n",
              "    .dataframe tbody tr th {\n",
              "        vertical-align: top;\n",
              "    }\n",
              "\n",
              "    .dataframe thead th {\n",
              "        text-align: right;\n",
              "    }\n",
              "</style>\n",
              "<table border=\"1\" class=\"dataframe\">\n",
              "  <thead>\n",
              "    <tr style=\"text-align: right;\">\n",
              "      <th></th>\n",
              "      <th>name</th>\n",
              "    </tr>\n",
              "  </thead>\n",
              "  <tbody>\n",
              "    <tr>\n",
              "      <th>0</th>\n",
              "      <td>2ГИС</td>\n",
              "    </tr>\n",
              "  </tbody>\n",
              "</table>\n",
              "</div>"
            ],
            "text/plain": [
              "   name\n",
              "0  2ГИС"
            ]
          },
          "metadata": {},
          "output_type": "display_data"
        }
      ],
      "source": [
        "# результат запроса\n",
        "df = pd.read_sql_query(query_5_5, connection)\n",
        "display( df )"
      ]
    },
    {
      "cell_type": "markdown",
      "id": "3bfcfdaf-755d-4d2b-8ed8-326201dc07ab",
      "metadata": {
        "id": "3bfcfdaf-755d-4d2b-8ed8-326201dc07ab"
      },
      "source": [
        "6. С помощью запроса выясните, у какого количества работодателей в качестве сферы деятельности указана Разработка программного обеспечения.\n"
      ]
    },
    {
      "cell_type": "code",
      "execution_count": 33,
      "id": "ad3f270f-2991-47eb-929b-e8f88a55b0d1",
      "metadata": {
        "id": "ad3f270f-2991-47eb-929b-e8f88a55b0d1"
      },
      "outputs": [],
      "source": [
        "# текст запроса\n",
        "query_5_6 = f'''\n",
        "select count( distinct e.id ) as employers_cnt\n",
        "    from public.employers e\n",
        "    join public.employers_industries ei on ei.employer_id = e.id\n",
        "    join public.industries i on ei.industry_id = i.id and i.name ilike 'Разработка программного обеспечения'\n",
        "'''"
      ]
    },
    {
      "cell_type": "code",
      "execution_count": 34,
      "id": "H72qxWM0shPR",
      "metadata": {
        "id": "H72qxWM0shPR"
      },
      "outputs": [
        {
          "data": {
            "text/html": [
              "<div>\n",
              "<style scoped>\n",
              "    .dataframe tbody tr th:only-of-type {\n",
              "        vertical-align: middle;\n",
              "    }\n",
              "\n",
              "    .dataframe tbody tr th {\n",
              "        vertical-align: top;\n",
              "    }\n",
              "\n",
              "    .dataframe thead th {\n",
              "        text-align: right;\n",
              "    }\n",
              "</style>\n",
              "<table border=\"1\" class=\"dataframe\">\n",
              "  <thead>\n",
              "    <tr style=\"text-align: right;\">\n",
              "      <th></th>\n",
              "      <th>employers_cnt</th>\n",
              "    </tr>\n",
              "  </thead>\n",
              "  <tbody>\n",
              "    <tr>\n",
              "      <th>0</th>\n",
              "      <td>3553</td>\n",
              "    </tr>\n",
              "  </tbody>\n",
              "</table>\n",
              "</div>"
            ],
            "text/plain": [
              "   employers_cnt\n",
              "0           3553"
            ]
          },
          "metadata": {},
          "output_type": "display_data"
        }
      ],
      "source": [
        "# результат запроса\n",
        "df = pd.read_sql_query(query_5_6, connection)\n",
        "display( df )"
      ]
    },
    {
      "cell_type": "markdown",
      "id": "7b02bb86-0546-40fb-94a4-242f050a5c57",
      "metadata": {
        "id": "7b02bb86-0546-40fb-94a4-242f050a5c57"
      },
      "source": [
        "7. Для компании «Яндекс» выведите список регионов-миллионников, в которых представлены вакансии компании, вместе с количеством вакансий в этих регионах. Также добавьте строку Total с общим количеством вакансий компании. Результат отсортируйте по возрастанию количества.\n",
        "\n",
        "Список городов-милионников надо взять [отсюда](https://ru.wikipedia.org/wiki/%D0%93%D0%BE%D1%80%D0%BE%D0%B4%D0%B0-%D0%BC%D0%B8%D0%BB%D0%BB%D0%B8%D0%BE%D0%BD%D0%B5%D1%80%D1%8B_%D0%A0%D0%BE%D1%81%D1%81%D0%B8%D0%B8). \n",
        "\n",
        "Если возникнут трудности с этим задание посмотрите материалы модуля  PYTHON-17. Как получать данные из веб-источников и API. "
      ]
    },
    {
      "cell_type": "code",
      "execution_count": 35,
      "id": "ZdfrL6gIs1Pn",
      "metadata": {
        "id": "ZdfrL6gIs1Pn"
      },
      "outputs": [
        {
          "name": "stdout",
          "output_type": "stream",
          "text": [
            "'Москва','Санкт-Петербург','Новосибирск','Екатеринбург','Казань','Красноярск','Нижний Новгород','Челябинск','Уфа','Краснодар','Самара','Ростов-на-Дону','Омск','Воронеж','Пермь','Волгоград'\n"
          ]
        }
      ],
      "source": [
        "# код для получения списка городов-милионников\n",
        "import requests # Импортируем библиотеку requests\n",
        "from bs4 import BeautifulSoup # Импортируем библиотеку BeautifulSoup\n",
        "\n",
        "########################################################################\n",
        "#\n",
        "# Возвращает строку списка городов, заключенных в одинарные ковычки и соединенных запятыми для подстановки в sql запрос\n",
        "# Пример: \"'Москва','Санкт-Петербург','Новосибирск'\"\n",
        "#\n",
        "# Данные берутся из таблицы сайта https://ru.wikipedia.org/wiki/Города-миллионеры_России\n",
        "#\n",
        "########################################################################\n",
        "def get_towns_million():\n",
        "    url = 'https://ru.wikipedia.org/wiki/Города-миллионеры_России' # URL городов-миллионников\n",
        "    response = requests.get(url) # Делаем GET-запрос к ресурсу и результат ответа сохраняем в переменной response\n",
        "\n",
        "    soup = BeautifulSoup(response.text, 'html.parser') # Создаём объект BeautifulSoup, указывая html-парсер\n",
        "\n",
        "    towns_million = [] # Список искомых городов-миллионников\n",
        "    lines = soup.find_all( 'td' ) # Сужаем поиск до таблицы\n",
        "    for items in lines[ 1: ]: \n",
        "        item = items.find( 'a' ) # Затем до ячейки с тэгом <a>\n",
        "        if item and len( towns_million ) < 16: # После 16 элемента идет не нужная нам информация\n",
        "            towns_million.append( \"'\" + item.text + \"'\" ) # Сразу заключаем в одинарные ковычки город \n",
        "\n",
        "    return ','.join( towns_million ) # Склеиваем список городов в строку, годную для sql запроса\n",
        "\n",
        "print( get_towns_million() ) # Тестируем функцию\n"
      ]
    },
    {
      "cell_type": "code",
      "execution_count": 36,
      "id": "5a0e32a4-e68a-4365-8a39-2fe24c542c36",
      "metadata": {
        "id": "5a0e32a4-e68a-4365-8a39-2fe24c542c36"
      },
      "outputs": [],
      "source": [
        "# текст запроса\n",
        "towns_million = get_towns_million()\n",
        "\n",
        "query_5_7 = f'''\n",
        "with v_vacancies_million as\n",
        "(\n",
        "    select a.name as area_name, count(*) as cnt\n",
        "        from public.employers e\n",
        "        join public.vacancies v on v.employer_id = e.id\n",
        "        join public.areas a on a.id = v.area_id and a.name in (''' + towns_million + ''')\n",
        "        where\n",
        "            e.name ilike 'Яндекс'\n",
        "        group by e.id, a.id, a.name\n",
        "        \n",
        ")\n",
        "\n",
        "(select vm.area_name, vm.cnt from v_vacancies_million vm order by cnt)\n",
        "union all\n",
        "(select 'Total' as area_name, sum( vm.cnt ) as cnt from v_vacancies_million vm order by cnt)\n",
        "'''"
      ]
    },
    {
      "cell_type": "code",
      "execution_count": 37,
      "id": "ttPhiO1rsvPq",
      "metadata": {
        "id": "ttPhiO1rsvPq"
      },
      "outputs": [
        {
          "data": {
            "text/html": [
              "<div>\n",
              "<style scoped>\n",
              "    .dataframe tbody tr th:only-of-type {\n",
              "        vertical-align: middle;\n",
              "    }\n",
              "\n",
              "    .dataframe tbody tr th {\n",
              "        vertical-align: top;\n",
              "    }\n",
              "\n",
              "    .dataframe thead th {\n",
              "        text-align: right;\n",
              "    }\n",
              "</style>\n",
              "<table border=\"1\" class=\"dataframe\">\n",
              "  <thead>\n",
              "    <tr style=\"text-align: right;\">\n",
              "      <th></th>\n",
              "      <th>area_name</th>\n",
              "      <th>cnt</th>\n",
              "    </tr>\n",
              "  </thead>\n",
              "  <tbody>\n",
              "    <tr>\n",
              "      <th>0</th>\n",
              "      <td>Омск</td>\n",
              "      <td>21.0</td>\n",
              "    </tr>\n",
              "    <tr>\n",
              "      <th>1</th>\n",
              "      <td>Челябинск</td>\n",
              "      <td>22.0</td>\n",
              "    </tr>\n",
              "    <tr>\n",
              "      <th>2</th>\n",
              "      <td>Красноярск</td>\n",
              "      <td>23.0</td>\n",
              "    </tr>\n",
              "    <tr>\n",
              "      <th>3</th>\n",
              "      <td>Волгоград</td>\n",
              "      <td>24.0</td>\n",
              "    </tr>\n",
              "    <tr>\n",
              "      <th>4</th>\n",
              "      <td>Ростов-на-Дону</td>\n",
              "      <td>25.0</td>\n",
              "    </tr>\n",
              "    <tr>\n",
              "      <th>5</th>\n",
              "      <td>Казань</td>\n",
              "      <td>25.0</td>\n",
              "    </tr>\n",
              "    <tr>\n",
              "      <th>6</th>\n",
              "      <td>Пермь</td>\n",
              "      <td>25.0</td>\n",
              "    </tr>\n",
              "    <tr>\n",
              "      <th>7</th>\n",
              "      <td>Самара</td>\n",
              "      <td>26.0</td>\n",
              "    </tr>\n",
              "    <tr>\n",
              "      <th>8</th>\n",
              "      <td>Уфа</td>\n",
              "      <td>26.0</td>\n",
              "    </tr>\n",
              "    <tr>\n",
              "      <th>9</th>\n",
              "      <td>Краснодар</td>\n",
              "      <td>30.0</td>\n",
              "    </tr>\n",
              "    <tr>\n",
              "      <th>10</th>\n",
              "      <td>Воронеж</td>\n",
              "      <td>32.0</td>\n",
              "    </tr>\n",
              "    <tr>\n",
              "      <th>11</th>\n",
              "      <td>Новосибирск</td>\n",
              "      <td>35.0</td>\n",
              "    </tr>\n",
              "    <tr>\n",
              "      <th>12</th>\n",
              "      <td>Нижний Новгород</td>\n",
              "      <td>36.0</td>\n",
              "    </tr>\n",
              "    <tr>\n",
              "      <th>13</th>\n",
              "      <td>Екатеринбург</td>\n",
              "      <td>39.0</td>\n",
              "    </tr>\n",
              "    <tr>\n",
              "      <th>14</th>\n",
              "      <td>Санкт-Петербург</td>\n",
              "      <td>42.0</td>\n",
              "    </tr>\n",
              "    <tr>\n",
              "      <th>15</th>\n",
              "      <td>Москва</td>\n",
              "      <td>54.0</td>\n",
              "    </tr>\n",
              "    <tr>\n",
              "      <th>16</th>\n",
              "      <td>Total</td>\n",
              "      <td>485.0</td>\n",
              "    </tr>\n",
              "  </tbody>\n",
              "</table>\n",
              "</div>"
            ],
            "text/plain": [
              "          area_name    cnt\n",
              "0              Омск   21.0\n",
              "1         Челябинск   22.0\n",
              "2        Красноярск   23.0\n",
              "3         Волгоград   24.0\n",
              "4    Ростов-на-Дону   25.0\n",
              "5            Казань   25.0\n",
              "6             Пермь   25.0\n",
              "7            Самара   26.0\n",
              "8               Уфа   26.0\n",
              "9         Краснодар   30.0\n",
              "10          Воронеж   32.0\n",
              "11      Новосибирск   35.0\n",
              "12  Нижний Новгород   36.0\n",
              "13     Екатеринбург   39.0\n",
              "14  Санкт-Петербург   42.0\n",
              "15           Москва   54.0\n",
              "16            Total  485.0"
            ]
          },
          "metadata": {},
          "output_type": "display_data"
        }
      ],
      "source": [
        "# результат запроса\n",
        "df = pd.read_sql_query(query_5_7, connection)\n",
        "display( df )"
      ]
    },
    {
      "cell_type": "markdown",
      "id": "04966e40-3bc3-4dc8-9ba2-e80580ce3abc",
      "metadata": {
        "id": "04966e40-3bc3-4dc8-9ba2-e80580ce3abc"
      },
      "source": [
        "***"
      ]
    },
    {
      "cell_type": "markdown",
      "id": "cd725d8a",
      "metadata": {},
      "source": [
        "# выводы по анализу работодателей\n",
        "1. Максимальное количество вакансий среди крупных компаний (коммуникационные/интернет услуги и банки и другие компании с охватом на всю страну)\n",
        "2. Ожидаемо, что количество вакансий и работодатедей больше в крупных городах. \n",
        "3. Среди городов-миллионников количество вакансий Яндекса выше 20 "
      ]
    },
    {
      "cell_type": "markdown",
      "id": "b1ef156a-efcb-49ce-bb23-90763e7f35b2",
      "metadata": {
        "id": "b1ef156a-efcb-49ce-bb23-90763e7f35b2",
        "tags": []
      },
      "source": [
        "# Юнит 6. Предметный анализ"
      ]
    },
    {
      "cell_type": "markdown",
      "id": "b9cd50a0-992d-4988-8463-2b2b1c4629b4",
      "metadata": {
        "id": "b9cd50a0-992d-4988-8463-2b2b1c4629b4"
      },
      "source": [
        "1. Сколько вакансий имеет отношение к данным?\n",
        "\n",
        "Считаем, что вакансия имеет отношение к данным, если в её названии содержатся слова 'data' или 'данн'.\n",
        "\n",
        "*Подсказка: Обратите внимание, что названия вакансий могут быть написаны в любом регистре.* \n"
      ]
    },
    {
      "cell_type": "code",
      "execution_count": 38,
      "id": "54ab0e50-c0f1-47cc-a54b-bc5c8bc363f9",
      "metadata": {
        "id": "54ab0e50-c0f1-47cc-a54b-bc5c8bc363f9"
      },
      "outputs": [],
      "source": [
        "# текст запроса\n",
        "query_6_1 = f'''\n",
        "select count(*) as vacancies_cnt\n",
        "    from public.vacancies v\n",
        "    where\n",
        "        v.name ilike '%data%'\n",
        "        or v.name ilike '%данн%'\n",
        "'''"
      ]
    },
    {
      "cell_type": "code",
      "execution_count": 39,
      "id": "9F1meAqsuUjd",
      "metadata": {
        "id": "9F1meAqsuUjd"
      },
      "outputs": [
        {
          "data": {
            "text/html": [
              "<div>\n",
              "<style scoped>\n",
              "    .dataframe tbody tr th:only-of-type {\n",
              "        vertical-align: middle;\n",
              "    }\n",
              "\n",
              "    .dataframe tbody tr th {\n",
              "        vertical-align: top;\n",
              "    }\n",
              "\n",
              "    .dataframe thead th {\n",
              "        text-align: right;\n",
              "    }\n",
              "</style>\n",
              "<table border=\"1\" class=\"dataframe\">\n",
              "  <thead>\n",
              "    <tr style=\"text-align: right;\">\n",
              "      <th></th>\n",
              "      <th>vacancies_cnt</th>\n",
              "    </tr>\n",
              "  </thead>\n",
              "  <tbody>\n",
              "    <tr>\n",
              "      <th>0</th>\n",
              "      <td>1771</td>\n",
              "    </tr>\n",
              "  </tbody>\n",
              "</table>\n",
              "</div>"
            ],
            "text/plain": [
              "   vacancies_cnt\n",
              "0           1771"
            ]
          },
          "metadata": {},
          "output_type": "display_data"
        }
      ],
      "source": [
        "# результат запроса\n",
        "df = pd.read_sql_query(query_6_1, connection)\n",
        "display( df )"
      ]
    },
    {
      "cell_type": "markdown",
      "id": "4dea20cb-a36b-474a-a0b9-e08e8e3857a5",
      "metadata": {
        "id": "4dea20cb-a36b-474a-a0b9-e08e8e3857a5"
      },
      "source": [
        "2. Сколько есть подходящих вакансий для начинающего дата-сайентиста? \n",
        "Будем считать вакансиями для дата-сайентистов такие, в названии которых есть хотя бы одно из следующих сочетаний:\n",
        "* 'data scientist'\n",
        "* 'data science'\n",
        "* 'исследователь данных'\n",
        "* 'ML' (здесь не нужно брать вакансии по HTML)\n",
        "* 'machine learning'\n",
        "* 'машинн%обучен%'\n",
        "\n",
        "** В следующих заданиях мы продолжим работать с вакансиями по этому условию.*\n",
        "\n",
        "Считаем вакансиями для специалистов уровня Junior следующие:\n",
        "* в названии есть слово 'junior' *или*\n",
        "* требуемый опыт — Нет опыта *или*\n",
        "* тип трудоустройства — Стажировка.\n",
        " "
      ]
    },
    {
      "cell_type": "code",
      "execution_count": 40,
      "id": "9c61b3c0-bb66-46c9-ae1e-81d3f5752b4a",
      "metadata": {
        "id": "9c61b3c0-bb66-46c9-ae1e-81d3f5752b4a"
      },
      "outputs": [],
      "source": [
        "# текст запроса\n",
        "query_6_2 = f'''\n",
        "select count(v.name) as vacancies_cnt\n",
        "    from public.vacancies v\n",
        "    where\n",
        "        (\n",
        "            v.name ilike '%data scientist%'\n",
        "            or v.name ilike '%data science%'\n",
        "            or v.name ilike '%исследователь данных%'\n",
        "            or ((v.name ilike '%ML%') and (name not ilike '%HTML%'))\n",
        "            or v.name ilike '%machine learning%'\n",
        "            or v.name ilike '%машинн%обучен%'\n",
        "        )\n",
        "        and\n",
        "        (\n",
        "            v.name ilike '%junior%'\n",
        "            or v.experience ilike '%Нет опыта%'\n",
        "            or v.employment ilike '%Стажировка%'\n",
        "        )\n",
        "'''"
      ]
    },
    {
      "cell_type": "code",
      "execution_count": 41,
      "id": "ZNM-LLYuu1dj",
      "metadata": {
        "id": "ZNM-LLYuu1dj"
      },
      "outputs": [
        {
          "data": {
            "text/html": [
              "<div>\n",
              "<style scoped>\n",
              "    .dataframe tbody tr th:only-of-type {\n",
              "        vertical-align: middle;\n",
              "    }\n",
              "\n",
              "    .dataframe tbody tr th {\n",
              "        vertical-align: top;\n",
              "    }\n",
              "\n",
              "    .dataframe thead th {\n",
              "        text-align: right;\n",
              "    }\n",
              "</style>\n",
              "<table border=\"1\" class=\"dataframe\">\n",
              "  <thead>\n",
              "    <tr style=\"text-align: right;\">\n",
              "      <th></th>\n",
              "      <th>vacancies_cnt</th>\n",
              "    </tr>\n",
              "  </thead>\n",
              "  <tbody>\n",
              "    <tr>\n",
              "      <th>0</th>\n",
              "      <td>51</td>\n",
              "    </tr>\n",
              "  </tbody>\n",
              "</table>\n",
              "</div>"
            ],
            "text/plain": [
              "   vacancies_cnt\n",
              "0             51"
            ]
          },
          "metadata": {},
          "output_type": "display_data"
        }
      ],
      "source": [
        "# результат запроса\n",
        "df = pd.read_sql_query(query_6_2, connection)\n",
        "display( df )"
      ]
    },
    {
      "cell_type": "markdown",
      "id": "eedceb80-c5ca-480e-b27a-278dfb8b4438",
      "metadata": {
        "id": "eedceb80-c5ca-480e-b27a-278dfb8b4438"
      },
      "source": [
        "3. Сколько есть вакансий для DS, в которых в качестве ключевого навыка указан SQL или postgres?\n",
        "\n",
        "** Критерии для отнесения вакансии к DS указаны в предыдущем задании.*"
      ]
    },
    {
      "cell_type": "code",
      "execution_count": 43,
      "id": "69621713-0cc5-4f1b-a1d7-bb144fa6148c",
      "metadata": {
        "id": "69621713-0cc5-4f1b-a1d7-bb144fa6148c"
      },
      "outputs": [],
      "source": [
        "# текст запроса\n",
        "query_6_3 = f'''\n",
        "select count(v.name) as vacancies_cnt\n",
        "    from public.vacancies v\n",
        "    where\n",
        "        (\n",
        "            1=0\n",
        "            or name ilike '%data scientist%'\n",
        "            or name ilike '%data science%'\n",
        "            or name ilike '%исследователь данных%'\n",
        "            or ((name ilike '%ML%') and (name not ilike '%HTML%'))\n",
        "            or name ilike '%machine learning%'\n",
        "            or name ilike '%машинн%обучен%'\n",
        "        )\n",
        "        and\n",
        "        (\n",
        "            v.key_skills ilike '%SQL%'\n",
        "            or v.key_skills ilike '%postgres%'\n",
        "        )\n",
        "'''"
      ]
    },
    {
      "cell_type": "code",
      "execution_count": 44,
      "id": "alA8WEAAvGdf",
      "metadata": {
        "id": "alA8WEAAvGdf"
      },
      "outputs": [
        {
          "data": {
            "text/html": [
              "<div>\n",
              "<style scoped>\n",
              "    .dataframe tbody tr th:only-of-type {\n",
              "        vertical-align: middle;\n",
              "    }\n",
              "\n",
              "    .dataframe tbody tr th {\n",
              "        vertical-align: top;\n",
              "    }\n",
              "\n",
              "    .dataframe thead th {\n",
              "        text-align: right;\n",
              "    }\n",
              "</style>\n",
              "<table border=\"1\" class=\"dataframe\">\n",
              "  <thead>\n",
              "    <tr style=\"text-align: right;\">\n",
              "      <th></th>\n",
              "      <th>vacancies_cnt</th>\n",
              "    </tr>\n",
              "  </thead>\n",
              "  <tbody>\n",
              "    <tr>\n",
              "      <th>0</th>\n",
              "      <td>229</td>\n",
              "    </tr>\n",
              "  </tbody>\n",
              "</table>\n",
              "</div>"
            ],
            "text/plain": [
              "   vacancies_cnt\n",
              "0            229"
            ]
          },
          "metadata": {},
          "output_type": "display_data"
        }
      ],
      "source": [
        "# результат запроса\n",
        "df = pd.read_sql_query(query_6_3, connection)\n",
        "display( df )"
      ]
    },
    {
      "cell_type": "markdown",
      "id": "1be1e9c6-37cf-4a5f-bfeb-04cab799dc80",
      "metadata": {
        "id": "1be1e9c6-37cf-4a5f-bfeb-04cab799dc80"
      },
      "source": [
        "4. Проверьте, насколько популярен Python в требованиях работодателей к DS.Для этого вычислите количество вакансий, в которых в качестве ключевого навыка указан Python.\n",
        "\n",
        "** Это можно сделать помощью запроса, аналогичного предыдущему.*"
      ]
    },
    {
      "cell_type": "code",
      "execution_count": 45,
      "id": "0036a355-9ccf-4564-8b01-73d8194297e7",
      "metadata": {
        "id": "0036a355-9ccf-4564-8b01-73d8194297e7"
      },
      "outputs": [],
      "source": [
        "# текст запроса\n",
        "query_6_4 = f'''\n",
        "select count(v.name) as vacancies_cnt\n",
        "    from public.vacancies v\n",
        "    where\n",
        "        (\n",
        "            name ilike '%data scientist%'\n",
        "            or name ilike '%data science%'\n",
        "            or name ilike '%исследователь данных%'\n",
        "            or ((name ilike '%ML%') and (name not ilike '%HTML%'))\n",
        "            or name ilike '%machine learning%'\n",
        "            or name ilike '%машинн%обучен%'\n",
        "        )\n",
        "        and\n",
        "        (\n",
        "            v.key_skills ilike '%python%'\n",
        "        )\n",
        "'''"
      ]
    },
    {
      "cell_type": "code",
      "execution_count": 46,
      "id": "1i-5WyucvQ6v",
      "metadata": {
        "id": "1i-5WyucvQ6v"
      },
      "outputs": [
        {
          "data": {
            "text/html": [
              "<div>\n",
              "<style scoped>\n",
              "    .dataframe tbody tr th:only-of-type {\n",
              "        vertical-align: middle;\n",
              "    }\n",
              "\n",
              "    .dataframe tbody tr th {\n",
              "        vertical-align: top;\n",
              "    }\n",
              "\n",
              "    .dataframe thead th {\n",
              "        text-align: right;\n",
              "    }\n",
              "</style>\n",
              "<table border=\"1\" class=\"dataframe\">\n",
              "  <thead>\n",
              "    <tr style=\"text-align: right;\">\n",
              "      <th></th>\n",
              "      <th>vacancies_cnt</th>\n",
              "    </tr>\n",
              "  </thead>\n",
              "  <tbody>\n",
              "    <tr>\n",
              "      <th>0</th>\n",
              "      <td>357</td>\n",
              "    </tr>\n",
              "  </tbody>\n",
              "</table>\n",
              "</div>"
            ],
            "text/plain": [
              "   vacancies_cnt\n",
              "0            357"
            ]
          },
          "metadata": {},
          "output_type": "display_data"
        }
      ],
      "source": [
        "# результат запроса\n",
        "df = pd.read_sql_query(query_6_4, connection)\n",
        "display( df )"
      ]
    },
    {
      "cell_type": "markdown",
      "id": "ec3c8db7-fa21-4a41-a994-1af63742a642",
      "metadata": {
        "id": "ec3c8db7-fa21-4a41-a994-1af63742a642"
      },
      "source": [
        "5. Сколько ключевых навыков в среднем указывают в вакансиях для DS?\n",
        "Ответ округлите до двух знаков после точки-разделителя."
      ]
    },
    {
      "cell_type": "code",
      "execution_count": 47,
      "id": "949132bc-d5b6-4611-8218-0b9a504d74f4",
      "metadata": {
        "id": "949132bc-d5b6-4611-8218-0b9a504d74f4"
      },
      "outputs": [],
      "source": [
        "# текст запроса\n",
        "query_6_5 = f'''\n",
        "select round( avg( length( v.key_skills ) - length( replace( key_skills, chr( 9 ), '' ) ) + 1 ), 2 ) as vacancies_cnt\n",
        "    from public.vacancies v\n",
        "    where\n",
        "        (\n",
        "            name ilike '%data scientist%'\n",
        "            or name ilike '%data science%'\n",
        "            or name ilike '%исследователь данных%'\n",
        "            or name like '%ML%'\n",
        "            or name ilike '%machine learning%'\n",
        "            or name ilike '%машинн%обучен%'\n",
        "            or name like '%ML%'\n",
        "        )\n",
        "        and name not ilike '%HTML%'\n",
        "'''"
      ]
    },
    {
      "cell_type": "code",
      "execution_count": 48,
      "id": "a3V24Tvmviqk",
      "metadata": {
        "id": "a3V24Tvmviqk"
      },
      "outputs": [
        {
          "data": {
            "text/html": [
              "<div>\n",
              "<style scoped>\n",
              "    .dataframe tbody tr th:only-of-type {\n",
              "        vertical-align: middle;\n",
              "    }\n",
              "\n",
              "    .dataframe tbody tr th {\n",
              "        vertical-align: top;\n",
              "    }\n",
              "\n",
              "    .dataframe thead th {\n",
              "        text-align: right;\n",
              "    }\n",
              "</style>\n",
              "<table border=\"1\" class=\"dataframe\">\n",
              "  <thead>\n",
              "    <tr style=\"text-align: right;\">\n",
              "      <th></th>\n",
              "      <th>vacancies_cnt</th>\n",
              "    </tr>\n",
              "  </thead>\n",
              "  <tbody>\n",
              "    <tr>\n",
              "      <th>0</th>\n",
              "      <td>6.41</td>\n",
              "    </tr>\n",
              "  </tbody>\n",
              "</table>\n",
              "</div>"
            ],
            "text/plain": [
              "   vacancies_cnt\n",
              "0           6.41"
            ]
          },
          "metadata": {},
          "output_type": "display_data"
        }
      ],
      "source": [
        "# результат запроса\n",
        "df = pd.read_sql_query(query_6_5, connection)\n",
        "display( df )"
      ]
    },
    {
      "cell_type": "markdown",
      "id": "1041c17a-ca8f-4543-a0ca-32778914fb00",
      "metadata": {
        "id": "1041c17a-ca8f-4543-a0ca-32778914fb00"
      },
      "source": [
        "6. Напишите запрос, позволяющий вычислить, какую зарплату для DS в **среднем** указывают для каждого типа требуемого опыта (уникальное значение из поля *experience*). \n",
        "\n",
        "При решении задачи примите во внимание следующее:\n",
        "1. Рассматриваем только вакансии, у которых заполнено хотя бы одно из двух полей с зарплатой.\n",
        "2. Если заполнены оба поля с зарплатой, то считаем зарплату по каждой вакансии как сумму двух полей, делённую на 2. Если заполнено только одно из полей, то его и считаем зарплатой по вакансии.\n",
        "3. Если в расчётах участвует null, в результате он тоже даст null (посмотрите, что возвращает запрос select 1 + null). Чтобы избежать этой ситуацию, мы воспользуемся функцией [coalesce](https://postgrespro.ru/docs/postgresql/9.5/functions-conditional#functions-coalesce-nvl-ifnull), которая заменит null на значение, которое мы передадим. Например, посмотрите, что возвращает запрос `select 1 + coalesce(null, 0)`\n",
        "\n",
        "Выясните, на какую зарплату в среднем может рассчитывать дата-сайентист с опытом работы от 3 до 6 лет. Результат округлите до целого числа. "
      ]
    },
    {
      "cell_type": "code",
      "execution_count": 49,
      "id": "6a743d39-5204-48d3-8271-b9f88e68d40e",
      "metadata": {
        "id": "6a743d39-5204-48d3-8271-b9f88e68d40e"
      },
      "outputs": [],
      "source": [
        "# текст запроса\n",
        "query_6_6 = f'''\n",
        "select \n",
        "        round\n",
        "        (\n",
        "            avg\n",
        "            ( \n",
        "                case\n",
        "                    when v.salary_from is not null and v.salary_to is not null then (v.salary_from + v.salary_to) / 2\n",
        "                    when v.salary_from is not null then v.salary_from\n",
        "                    else v.salary_to\n",
        "                end\n",
        "            )\n",
        "            , 0\n",
        "        )::int as salary_avg\n",
        "    from public.vacancies v\n",
        "    where\n",
        "        (\n",
        "            1=0\n",
        "            or name ilike '%data scientist%'\n",
        "            or name ilike '%data science%'\n",
        "            or name ilike '%исследователь данных%'\n",
        "            or name like '%ML%'\n",
        "            or name ilike '%machine learning%'\n",
        "            or name ilike '%машинн%обучен%'\n",
        "        )\n",
        "        and name not ilike '%HTML%'\n",
        "        and (v.salary_from is not null or v.salary_to is not null)\n",
        "        and v.experience = 'От 3 до 6 лет'\n",
        "'''"
      ]
    },
    {
      "cell_type": "code",
      "execution_count": 50,
      "id": "aRIJ0mZEwU1_",
      "metadata": {
        "id": "aRIJ0mZEwU1_"
      },
      "outputs": [
        {
          "data": {
            "text/html": [
              "<div>\n",
              "<style scoped>\n",
              "    .dataframe tbody tr th:only-of-type {\n",
              "        vertical-align: middle;\n",
              "    }\n",
              "\n",
              "    .dataframe tbody tr th {\n",
              "        vertical-align: top;\n",
              "    }\n",
              "\n",
              "    .dataframe thead th {\n",
              "        text-align: right;\n",
              "    }\n",
              "</style>\n",
              "<table border=\"1\" class=\"dataframe\">\n",
              "  <thead>\n",
              "    <tr style=\"text-align: right;\">\n",
              "      <th></th>\n",
              "      <th>salary_avg</th>\n",
              "    </tr>\n",
              "  </thead>\n",
              "  <tbody>\n",
              "    <tr>\n",
              "      <th>0</th>\n",
              "      <td>243115</td>\n",
              "    </tr>\n",
              "  </tbody>\n",
              "</table>\n",
              "</div>"
            ],
            "text/plain": [
              "   salary_avg\n",
              "0      243115"
            ]
          },
          "metadata": {},
          "output_type": "display_data"
        }
      ],
      "source": [
        "# результат запроса\n",
        "df = pd.read_sql_query(query_6_6, connection)\n",
        "display( df )"
      ]
    },
    {
      "cell_type": "markdown",
      "id": "917705a2",
      "metadata": {},
      "source": [
        "# выводы по предметному анализу\n",
        "1. Уровень зарплаты опытного специалиста по data scince высокий\n",
        "2. Но вакансий для начинающих не много. Начинающим трудно пробиться в этой области и нужно иметь сразу высокую стартовую квалификацию (6 skills как минимум)\n",
        "3. Python дает немного больше вакансий, чем postgres, но нужно иметь знания и опыт в обоих областях обязательно\n"
      ]
    },
    {
      "cell_type": "markdown",
      "id": "6a7892b4-4113-4746-adce-18aa2844f18e",
      "metadata": {
        "id": "6a7892b4-4113-4746-adce-18aa2844f18e"
      },
      "source": [
        "***"
      ]
    },
    {
      "cell_type": "markdown",
      "id": "c0ED6fh7wiBT",
      "metadata": {
        "id": "c0ED6fh7wiBT"
      },
      "source": [
        "# Общий вывод по проекту\n",
        "\n",
        "Проведем дополнительный исследования"
      ]
    },
    {
      "cell_type": "code",
      "execution_count": 51,
      "id": "h9B3BL-wwj18",
      "metadata": {
        "id": "h9B3BL-wwj18"
      },
      "outputs": [],
      "source": [
        "# подведем итог исследования, обобщите выводы\n",
        "# здесь можно (это будет плюсом) провести дополнительные исследования данных, сделать прогнозы, продумать варианты продолжения исследования"
      ]
    },
    {
      "cell_type": "code",
      "execution_count": 52,
      "id": "a7e45716",
      "metadata": {},
      "outputs": [],
      "source": [
        "import plotly.io as pio\n",
        "import plotly.express as px\n",
        "import numpy as np\n",
        "# Дефорлный формат изображений\n",
        "pio.renderers.default = \"png\""
      ]
    },
    {
      "cell_type": "markdown",
      "id": "5d504e79",
      "metadata": {},
      "source": [
        "Посмотрим топ 20 вакансий"
      ]
    },
    {
      "cell_type": "code",
      "execution_count": 53,
      "id": "5dc4f0f2",
      "metadata": {},
      "outputs": [],
      "source": [
        "# текст запроса\n",
        "query_6_6 = f'''\n",
        "select \n",
        "        replace( v.name, '1C', '1С' ) as name, -- Склеиваем разные варианты написания\n",
        "        count(*) as cnt\n",
        "    from public.vacancies v \n",
        "    where \n",
        "        (v.salary_from is not null or v.salary_to is not null)\n",
        "    group by v.name\n",
        "    order by cnt desc\n",
        "    limit 20\n",
        "'''"
      ]
    },
    {
      "cell_type": "code",
      "execution_count": 54,
      "id": "a91d1170",
      "metadata": {},
      "outputs": [
        {
          "ename": "ValueError",
          "evalue": "\nImage export using the \"kaleido\" engine requires the Kaleido package,\nwhich can be installed using pip:\n\n    $ pip install --upgrade kaleido\n",
          "output_type": "error",
          "traceback": [
            "\u001b[31m---------------------------------------------------------------------------\u001b[39m",
            "\u001b[31mValueError\u001b[39m                                Traceback (most recent call last)",
            "\u001b[36mCell\u001b[39m\u001b[36m \u001b[39m\u001b[32mIn[54]\u001b[39m\u001b[32m, line 23\u001b[39m\n\u001b[32m     15\u001b[39m fig.update_layout(\n\u001b[32m     16\u001b[39m     xaxis_title = \u001b[33m'\u001b[39m\u001b[33mКоличество вакансий\u001b[39m\u001b[33m'\u001b[39m, \u001b[38;5;66;03m# Подпись оси x\u001b[39;00m\n\u001b[32m     17\u001b[39m     yaxis_title = \u001b[33m'\u001b[39m\u001b[33mНазвание вакансии\u001b[39m\u001b[33m'\u001b[39m, \u001b[38;5;66;03m# Подпись оси y\u001b[39;00m\n\u001b[32m     18\u001b[39m     title_x = \u001b[32m0.5\u001b[39m, \u001b[38;5;66;03m# Центрируем по оси x заголовок\u001b[39;00m\n\u001b[32m     19\u001b[39m     showlegend = \u001b[38;5;28;01mFalse\u001b[39;00m \u001b[38;5;66;03m# Легенда не нужна\u001b[39;00m\n\u001b[32m     20\u001b[39m )\n\u001b[32m     22\u001b[39m \u001b[38;5;66;03m# Выводим на экран\u001b[39;00m\n\u001b[32m---> \u001b[39m\u001b[32m23\u001b[39m \u001b[43mfig\u001b[49m\u001b[43m.\u001b[49m\u001b[43mshow\u001b[49m\u001b[43m(\u001b[49m\u001b[43m \u001b[49m\u001b[43mwidth\u001b[49m\u001b[43m \u001b[49m\u001b[43m=\u001b[49m\u001b[43m \u001b[49m\u001b[32;43m1000\u001b[39;49m\u001b[43m,\u001b[49m\u001b[43m \u001b[49m\u001b[43mheight\u001b[49m\u001b[43m \u001b[49m\u001b[43m=\u001b[49m\u001b[43m \u001b[49m\u001b[32;43m800\u001b[39;49m\u001b[43m \u001b[49m\u001b[43m)\u001b[49m \u001b[38;5;66;03m# Отображаем, Ширина и высота изображения\u001b[39;00m\n",
            "\u001b[36mFile \u001b[39m\u001b[32md:\\Python\\.venv\\Lib\\site-packages\\plotly\\basedatatypes.py:3420\u001b[39m, in \u001b[36mBaseFigure.show\u001b[39m\u001b[34m(self, *args, **kwargs)\u001b[39m\n\u001b[32m   3387\u001b[39m \u001b[38;5;250m\u001b[39m\u001b[33;03m\"\"\"\u001b[39;00m\n\u001b[32m   3388\u001b[39m \u001b[33;03mShow a figure using either the default renderer(s) or the renderer(s)\u001b[39;00m\n\u001b[32m   3389\u001b[39m \u001b[33;03mspecified by the renderer argument\u001b[39;00m\n\u001b[32m   (...)\u001b[39m\u001b[32m   3416\u001b[39m \u001b[33;03mNone\u001b[39;00m\n\u001b[32m   3417\u001b[39m \u001b[33;03m\"\"\"\u001b[39;00m\n\u001b[32m   3418\u001b[39m \u001b[38;5;28;01mimport\u001b[39;00m\u001b[38;5;250m \u001b[39m\u001b[34;01mplotly\u001b[39;00m\u001b[34;01m.\u001b[39;00m\u001b[34;01mio\u001b[39;00m\u001b[38;5;250m \u001b[39m\u001b[38;5;28;01mas\u001b[39;00m\u001b[38;5;250m \u001b[39m\u001b[34;01mpio\u001b[39;00m\n\u001b[32m-> \u001b[39m\u001b[32m3420\u001b[39m \u001b[38;5;28;01mreturn\u001b[39;00m \u001b[43mpio\u001b[49m\u001b[43m.\u001b[49m\u001b[43mshow\u001b[49m\u001b[43m(\u001b[49m\u001b[38;5;28;43mself\u001b[39;49m\u001b[43m,\u001b[49m\u001b[43m \u001b[49m\u001b[43m*\u001b[49m\u001b[43margs\u001b[49m\u001b[43m,\u001b[49m\u001b[43m \u001b[49m\u001b[43m*\u001b[49m\u001b[43m*\u001b[49m\u001b[43mkwargs\u001b[49m\u001b[43m)\u001b[49m\n",
            "\u001b[36mFile \u001b[39m\u001b[32md:\\Python\\.venv\\Lib\\site-packages\\plotly\\io\\_renderers.py:407\u001b[39m, in \u001b[36mshow\u001b[39m\u001b[34m(fig, renderer, validate, **kwargs)\u001b[39m\n\u001b[32m    404\u001b[39m fig_dict = validate_coerce_fig_to_dict(fig, validate)\n\u001b[32m    406\u001b[39m \u001b[38;5;66;03m# Mimetype renderers\u001b[39;00m\n\u001b[32m--> \u001b[39m\u001b[32m407\u001b[39m bundle = \u001b[43mrenderers\u001b[49m\u001b[43m.\u001b[49m\u001b[43m_build_mime_bundle\u001b[49m\u001b[43m(\u001b[49m\u001b[43mfig_dict\u001b[49m\u001b[43m,\u001b[49m\u001b[43m \u001b[49m\u001b[43mrenderers_string\u001b[49m\u001b[43m=\u001b[49m\u001b[43mrenderer\u001b[49m\u001b[43m,\u001b[49m\u001b[43m \u001b[49m\u001b[43m*\u001b[49m\u001b[43m*\u001b[49m\u001b[43mkwargs\u001b[49m\u001b[43m)\u001b[49m\n\u001b[32m    408\u001b[39m \u001b[38;5;28;01mif\u001b[39;00m bundle:\n\u001b[32m    409\u001b[39m     \u001b[38;5;28;01mif\u001b[39;00m \u001b[38;5;129;01mnot\u001b[39;00m ipython_display:\n",
            "\u001b[36mFile \u001b[39m\u001b[32md:\\Python\\.venv\\Lib\\site-packages\\plotly\\io\\_renderers.py:315\u001b[39m, in \u001b[36mRenderersConfig._build_mime_bundle\u001b[39m\u001b[34m(self, fig_dict, renderers_string, **kwargs)\u001b[39m\n\u001b[32m    312\u001b[39m             \u001b[38;5;28;01mif\u001b[39;00m \u001b[38;5;28mhasattr\u001b[39m(renderer, k):\n\u001b[32m    313\u001b[39m                 \u001b[38;5;28msetattr\u001b[39m(renderer, k, v)\n\u001b[32m--> \u001b[39m\u001b[32m315\u001b[39m         bundle.update(\u001b[43mrenderer\u001b[49m\u001b[43m.\u001b[49m\u001b[43mto_mimebundle\u001b[49m\u001b[43m(\u001b[49m\u001b[43mfig_dict\u001b[49m\u001b[43m)\u001b[49m)\n\u001b[32m    317\u001b[39m \u001b[38;5;28;01mreturn\u001b[39;00m bundle\n",
            "\u001b[36mFile \u001b[39m\u001b[32md:\\Python\\.venv\\Lib\\site-packages\\plotly\\io\\_base_renderers.py:123\u001b[39m, in \u001b[36mImageRenderer.to_mimebundle\u001b[39m\u001b[34m(self, fig_dict)\u001b[39m\n\u001b[32m    122\u001b[39m \u001b[38;5;28;01mdef\u001b[39;00m\u001b[38;5;250m \u001b[39m\u001b[34mto_mimebundle\u001b[39m(\u001b[38;5;28mself\u001b[39m, fig_dict):\n\u001b[32m--> \u001b[39m\u001b[32m123\u001b[39m     image_bytes = \u001b[43mto_image\u001b[49m\u001b[43m(\u001b[49m\n\u001b[32m    124\u001b[39m \u001b[43m        \u001b[49m\u001b[43mfig_dict\u001b[49m\u001b[43m,\u001b[49m\n\u001b[32m    125\u001b[39m \u001b[43m        \u001b[49m\u001b[38;5;28;43mformat\u001b[39;49m\u001b[43m=\u001b[49m\u001b[38;5;28;43mself\u001b[39;49m\u001b[43m.\u001b[49m\u001b[43mformat\u001b[49m\u001b[43m,\u001b[49m\n\u001b[32m    126\u001b[39m \u001b[43m        \u001b[49m\u001b[43mwidth\u001b[49m\u001b[43m=\u001b[49m\u001b[38;5;28;43mself\u001b[39;49m\u001b[43m.\u001b[49m\u001b[43mwidth\u001b[49m\u001b[43m,\u001b[49m\n\u001b[32m    127\u001b[39m \u001b[43m        \u001b[49m\u001b[43mheight\u001b[49m\u001b[43m=\u001b[49m\u001b[38;5;28;43mself\u001b[39;49m\u001b[43m.\u001b[49m\u001b[43mheight\u001b[49m\u001b[43m,\u001b[49m\n\u001b[32m    128\u001b[39m \u001b[43m        \u001b[49m\u001b[43mscale\u001b[49m\u001b[43m=\u001b[49m\u001b[38;5;28;43mself\u001b[39;49m\u001b[43m.\u001b[49m\u001b[43mscale\u001b[49m\u001b[43m,\u001b[49m\n\u001b[32m    129\u001b[39m \u001b[43m        \u001b[49m\u001b[43mvalidate\u001b[49m\u001b[43m=\u001b[49m\u001b[38;5;28;43;01mFalse\u001b[39;49;00m\u001b[43m,\u001b[49m\n\u001b[32m    130\u001b[39m \u001b[43m        \u001b[49m\u001b[43mengine\u001b[49m\u001b[43m=\u001b[49m\u001b[38;5;28;43mself\u001b[39;49m\u001b[43m.\u001b[49m\u001b[43mengine\u001b[49m\u001b[43m,\u001b[49m\n\u001b[32m    131\u001b[39m \u001b[43m    \u001b[49m\u001b[43m)\u001b[49m\n\u001b[32m    133\u001b[39m     \u001b[38;5;28;01mif\u001b[39;00m \u001b[38;5;28mself\u001b[39m.b64_encode:\n\u001b[32m    134\u001b[39m         image_str = base64.b64encode(image_bytes).decode(\u001b[33m\"\u001b[39m\u001b[33mutf8\u001b[39m\u001b[33m\"\u001b[39m)\n",
            "\u001b[36mFile \u001b[39m\u001b[32md:\\Python\\.venv\\Lib\\site-packages\\plotly\\io\\_kaleido.py:345\u001b[39m, in \u001b[36mto_image\u001b[39m\u001b[34m(fig, format, width, height, scale, validate, engine)\u001b[39m\n\u001b[32m    343\u001b[39m     \u001b[38;5;66;03m# Raise informative error message if Kaleido is not installed\u001b[39;00m\n\u001b[32m    344\u001b[39m     \u001b[38;5;28;01mif\u001b[39;00m \u001b[38;5;129;01mnot\u001b[39;00m kaleido_available():\n\u001b[32m--> \u001b[39m\u001b[32m345\u001b[39m         \u001b[38;5;28;01mraise\u001b[39;00m \u001b[38;5;167;01mValueError\u001b[39;00m(\n\u001b[32m    346\u001b[39m \u001b[38;5;250m            \u001b[39m\u001b[33;03m\"\"\"\u001b[39;00m\n\u001b[32m    347\u001b[39m \u001b[33;03mImage export using the \"kaleido\" engine requires the Kaleido package,\u001b[39;00m\n\u001b[32m    348\u001b[39m \u001b[33;03mwhich can be installed using pip:\u001b[39;00m\n\u001b[32m    349\u001b[39m \n\u001b[32m    350\u001b[39m \u001b[33;03m    $ pip install --upgrade kaleido\u001b[39;00m\n\u001b[32m    351\u001b[39m \u001b[33;03m\"\"\"\u001b[39;00m\n\u001b[32m    352\u001b[39m         )\n\u001b[32m    354\u001b[39m     \u001b[38;5;66;03m# Convert figure to dict (and validate if requested)\u001b[39;00m\n\u001b[32m    355\u001b[39m     fig_dict = validate_coerce_fig_to_dict(fig, validate)\n",
            "\u001b[31mValueError\u001b[39m: \nImage export using the \"kaleido\" engine requires the Kaleido package,\nwhich can be installed using pip:\n\n    $ pip install --upgrade kaleido\n"
          ]
        }
      ],
      "source": [
        "df = pd.read_sql_query(query_6_6, connection)\n",
        "\n",
        "tmp_df = df.copy()\n",
        "\n",
        "# Имеем отображение признака и категории - выбираем столбчатые диаграммы\n",
        "fig = px.bar(\n",
        "    data_frame = tmp_df,\n",
        "    y = \"name\", # Ось y - Название вакансии\n",
        "    x = \"cnt\", # Ось x - количество вакансий\n",
        "    title = 'Топ 20 вакансий', # Заголовак графика\n",
        "    color = \"cnt\", # Цветовой индикатор\n",
        "    labels = { \"cnt\": \"Кол-во\" }, # Переименуем шкалу\n",
        "    text_auto = True # Включим подписи\n",
        ")\n",
        "fig.update_layout(\n",
        "    xaxis_title = 'Количество вакансий', # Подпись оси x\n",
        "    yaxis_title = 'Название вакансии', # Подпись оси y\n",
        "    title_x = 0.5, # Центрируем по оси x заголовок\n",
        "    showlegend = False # Легенда не нужна\n",
        ")\n",
        "\n",
        "# Выводим на экран\n",
        "fig.show( width = 1000, height = 800 ) # Отображаем, Ширина и высота изображения\n"
      ]
    },
    {
      "cell_type": "markdown",
      "id": "e871ac6d",
      "metadata": {},
      "source": [
        "В больших городах вакансий больше. Наибольший запрос вакансий предоставляют крупные работодатели федерального уровня. Чем больше опыт, тем ниже текучка кадров, максимальное количество вакансий для соискателей с небольшим опытом. Больше всего вакансий на полную занятость.\n",
        "Средняя заработная плата для специалистов data scientis с опытом от 3 до 6 лет выше, чем в среднем по IT."
      ]
    },
    {
      "cell_type": "markdown",
      "id": "9180c60d",
      "metadata": {},
      "source": [
        "Проанализируем распределение заработных плат вакансий в больших городах. В качестве суммы берем полусумму границ или только 1 границу (если 2я не задана). Аномальные данные и отсутствующие по суммам данные не берем к анализу."
      ]
    },
    {
      "cell_type": "code",
      "execution_count": 55,
      "id": "36573f6a",
      "metadata": {},
      "outputs": [],
      "source": [
        "# Попучим строку городов миллионников, разделенных запятыми и в одинарных ковычках (для sql запроса)\n",
        "towns_million = get_towns_million()\n",
        "\n",
        "# текст запроса\n",
        "query_7_2 = f'''\n",
        "select *\n",
        "    from\n",
        "    (\n",
        "        select \n",
        "                a.name, \n",
        "                round\n",
        "                (\n",
        "                    case\n",
        "                        when v.salary_from is not null and v.salary_to is not null then (v.salary_from + v.salary_to) / 2\n",
        "                        when v.salary_from is not null then v.salary_from\n",
        "                        else v.salary_to\n",
        "                    end\n",
        "                    , 0\n",
        "                )::int as sm\n",
        "                \n",
        "            from public.areas a\n",
        "            join public.vacancies v on a.id = v.area_id\n",
        "            where \n",
        "                a.name in (''' + towns_million + ''') and\n",
        "                (v.salary_from is not null or v.salary_to is not null)\n",
        "    ) t   \n",
        "    where t.sm between 30000 and 400000 --Убираем аномальные данные\n",
        "'''"
      ]
    },
    {
      "cell_type": "code",
      "execution_count": 56,
      "id": "18dc4521",
      "metadata": {},
      "outputs": [
        {
          "ename": "ValueError",
          "evalue": "\nImage export using the \"kaleido\" engine requires the Kaleido package,\nwhich can be installed using pip:\n\n    $ pip install --upgrade kaleido\n",
          "output_type": "error",
          "traceback": [
            "\u001b[31m---------------------------------------------------------------------------\u001b[39m",
            "\u001b[31mValueError\u001b[39m                                Traceback (most recent call last)",
            "\u001b[36mCell\u001b[39m\u001b[36m \u001b[39m\u001b[32mIn[56]\u001b[39m\u001b[32m, line 15\u001b[39m\n\u001b[32m     12\u001b[39m fig.update_layout( { \u001b[33m\"\u001b[39m\u001b[33mxaxis_title\u001b[39m\u001b[33m\"\u001b[39m: \u001b[33m\"\u001b[39m\u001b[33mЗП, руб\u001b[39m\u001b[33m\"\u001b[39m, \u001b[33m\"\u001b[39m\u001b[33myaxis_title\u001b[39m\u001b[33m\"\u001b[39m: \u001b[33m\"\u001b[39m\u001b[33mГород - миллионник\u001b[39m\u001b[33m\"\u001b[39m  } ) \u001b[38;5;66;03m# Подписи осей\u001b[39;00m\n\u001b[32m     14\u001b[39m \u001b[38;5;66;03m# Выводим на экран\u001b[39;00m\n\u001b[32m---> \u001b[39m\u001b[32m15\u001b[39m \u001b[43mfig\u001b[49m\u001b[43m.\u001b[49m\u001b[43mshow\u001b[49m\u001b[43m(\u001b[49m\u001b[43m \u001b[49m\u001b[43mwidth\u001b[49m\u001b[43m \u001b[49m\u001b[43m=\u001b[49m\u001b[43m \u001b[49m\u001b[32;43m1000\u001b[39;49m\u001b[43m,\u001b[49m\u001b[43m \u001b[49m\u001b[43mheight\u001b[49m\u001b[43m \u001b[49m\u001b[43m=\u001b[49m\u001b[43m \u001b[49m\u001b[32;43m800\u001b[39;49m\u001b[43m \u001b[49m\u001b[43m)\u001b[49m \u001b[38;5;66;03m# Отображаем, Ширина и высота изображения\u001b[39;00m\n",
            "\u001b[36mFile \u001b[39m\u001b[32md:\\Python\\.venv\\Lib\\site-packages\\plotly\\basedatatypes.py:3420\u001b[39m, in \u001b[36mBaseFigure.show\u001b[39m\u001b[34m(self, *args, **kwargs)\u001b[39m\n\u001b[32m   3387\u001b[39m \u001b[38;5;250m\u001b[39m\u001b[33;03m\"\"\"\u001b[39;00m\n\u001b[32m   3388\u001b[39m \u001b[33;03mShow a figure using either the default renderer(s) or the renderer(s)\u001b[39;00m\n\u001b[32m   3389\u001b[39m \u001b[33;03mspecified by the renderer argument\u001b[39;00m\n\u001b[32m   (...)\u001b[39m\u001b[32m   3416\u001b[39m \u001b[33;03mNone\u001b[39;00m\n\u001b[32m   3417\u001b[39m \u001b[33;03m\"\"\"\u001b[39;00m\n\u001b[32m   3418\u001b[39m \u001b[38;5;28;01mimport\u001b[39;00m\u001b[38;5;250m \u001b[39m\u001b[34;01mplotly\u001b[39;00m\u001b[34;01m.\u001b[39;00m\u001b[34;01mio\u001b[39;00m\u001b[38;5;250m \u001b[39m\u001b[38;5;28;01mas\u001b[39;00m\u001b[38;5;250m \u001b[39m\u001b[34;01mpio\u001b[39;00m\n\u001b[32m-> \u001b[39m\u001b[32m3420\u001b[39m \u001b[38;5;28;01mreturn\u001b[39;00m \u001b[43mpio\u001b[49m\u001b[43m.\u001b[49m\u001b[43mshow\u001b[49m\u001b[43m(\u001b[49m\u001b[38;5;28;43mself\u001b[39;49m\u001b[43m,\u001b[49m\u001b[43m \u001b[49m\u001b[43m*\u001b[49m\u001b[43margs\u001b[49m\u001b[43m,\u001b[49m\u001b[43m \u001b[49m\u001b[43m*\u001b[49m\u001b[43m*\u001b[49m\u001b[43mkwargs\u001b[49m\u001b[43m)\u001b[49m\n",
            "\u001b[36mFile \u001b[39m\u001b[32md:\\Python\\.venv\\Lib\\site-packages\\plotly\\io\\_renderers.py:407\u001b[39m, in \u001b[36mshow\u001b[39m\u001b[34m(fig, renderer, validate, **kwargs)\u001b[39m\n\u001b[32m    404\u001b[39m fig_dict = validate_coerce_fig_to_dict(fig, validate)\n\u001b[32m    406\u001b[39m \u001b[38;5;66;03m# Mimetype renderers\u001b[39;00m\n\u001b[32m--> \u001b[39m\u001b[32m407\u001b[39m bundle = \u001b[43mrenderers\u001b[49m\u001b[43m.\u001b[49m\u001b[43m_build_mime_bundle\u001b[49m\u001b[43m(\u001b[49m\u001b[43mfig_dict\u001b[49m\u001b[43m,\u001b[49m\u001b[43m \u001b[49m\u001b[43mrenderers_string\u001b[49m\u001b[43m=\u001b[49m\u001b[43mrenderer\u001b[49m\u001b[43m,\u001b[49m\u001b[43m \u001b[49m\u001b[43m*\u001b[49m\u001b[43m*\u001b[49m\u001b[43mkwargs\u001b[49m\u001b[43m)\u001b[49m\n\u001b[32m    408\u001b[39m \u001b[38;5;28;01mif\u001b[39;00m bundle:\n\u001b[32m    409\u001b[39m     \u001b[38;5;28;01mif\u001b[39;00m \u001b[38;5;129;01mnot\u001b[39;00m ipython_display:\n",
            "\u001b[36mFile \u001b[39m\u001b[32md:\\Python\\.venv\\Lib\\site-packages\\plotly\\io\\_renderers.py:315\u001b[39m, in \u001b[36mRenderersConfig._build_mime_bundle\u001b[39m\u001b[34m(self, fig_dict, renderers_string, **kwargs)\u001b[39m\n\u001b[32m    312\u001b[39m             \u001b[38;5;28;01mif\u001b[39;00m \u001b[38;5;28mhasattr\u001b[39m(renderer, k):\n\u001b[32m    313\u001b[39m                 \u001b[38;5;28msetattr\u001b[39m(renderer, k, v)\n\u001b[32m--> \u001b[39m\u001b[32m315\u001b[39m         bundle.update(\u001b[43mrenderer\u001b[49m\u001b[43m.\u001b[49m\u001b[43mto_mimebundle\u001b[49m\u001b[43m(\u001b[49m\u001b[43mfig_dict\u001b[49m\u001b[43m)\u001b[49m)\n\u001b[32m    317\u001b[39m \u001b[38;5;28;01mreturn\u001b[39;00m bundle\n",
            "\u001b[36mFile \u001b[39m\u001b[32md:\\Python\\.venv\\Lib\\site-packages\\plotly\\io\\_base_renderers.py:123\u001b[39m, in \u001b[36mImageRenderer.to_mimebundle\u001b[39m\u001b[34m(self, fig_dict)\u001b[39m\n\u001b[32m    122\u001b[39m \u001b[38;5;28;01mdef\u001b[39;00m\u001b[38;5;250m \u001b[39m\u001b[34mto_mimebundle\u001b[39m(\u001b[38;5;28mself\u001b[39m, fig_dict):\n\u001b[32m--> \u001b[39m\u001b[32m123\u001b[39m     image_bytes = \u001b[43mto_image\u001b[49m\u001b[43m(\u001b[49m\n\u001b[32m    124\u001b[39m \u001b[43m        \u001b[49m\u001b[43mfig_dict\u001b[49m\u001b[43m,\u001b[49m\n\u001b[32m    125\u001b[39m \u001b[43m        \u001b[49m\u001b[38;5;28;43mformat\u001b[39;49m\u001b[43m=\u001b[49m\u001b[38;5;28;43mself\u001b[39;49m\u001b[43m.\u001b[49m\u001b[43mformat\u001b[49m\u001b[43m,\u001b[49m\n\u001b[32m    126\u001b[39m \u001b[43m        \u001b[49m\u001b[43mwidth\u001b[49m\u001b[43m=\u001b[49m\u001b[38;5;28;43mself\u001b[39;49m\u001b[43m.\u001b[49m\u001b[43mwidth\u001b[49m\u001b[43m,\u001b[49m\n\u001b[32m    127\u001b[39m \u001b[43m        \u001b[49m\u001b[43mheight\u001b[49m\u001b[43m=\u001b[49m\u001b[38;5;28;43mself\u001b[39;49m\u001b[43m.\u001b[49m\u001b[43mheight\u001b[49m\u001b[43m,\u001b[49m\n\u001b[32m    128\u001b[39m \u001b[43m        \u001b[49m\u001b[43mscale\u001b[49m\u001b[43m=\u001b[49m\u001b[38;5;28;43mself\u001b[39;49m\u001b[43m.\u001b[49m\u001b[43mscale\u001b[49m\u001b[43m,\u001b[49m\n\u001b[32m    129\u001b[39m \u001b[43m        \u001b[49m\u001b[43mvalidate\u001b[49m\u001b[43m=\u001b[49m\u001b[38;5;28;43;01mFalse\u001b[39;49;00m\u001b[43m,\u001b[49m\n\u001b[32m    130\u001b[39m \u001b[43m        \u001b[49m\u001b[43mengine\u001b[49m\u001b[43m=\u001b[49m\u001b[38;5;28;43mself\u001b[39;49m\u001b[43m.\u001b[49m\u001b[43mengine\u001b[49m\u001b[43m,\u001b[49m\n\u001b[32m    131\u001b[39m \u001b[43m    \u001b[49m\u001b[43m)\u001b[49m\n\u001b[32m    133\u001b[39m     \u001b[38;5;28;01mif\u001b[39;00m \u001b[38;5;28mself\u001b[39m.b64_encode:\n\u001b[32m    134\u001b[39m         image_str = base64.b64encode(image_bytes).decode(\u001b[33m\"\u001b[39m\u001b[33mutf8\u001b[39m\u001b[33m\"\u001b[39m)\n",
            "\u001b[36mFile \u001b[39m\u001b[32md:\\Python\\.venv\\Lib\\site-packages\\plotly\\io\\_kaleido.py:345\u001b[39m, in \u001b[36mto_image\u001b[39m\u001b[34m(fig, format, width, height, scale, validate, engine)\u001b[39m\n\u001b[32m    343\u001b[39m     \u001b[38;5;66;03m# Raise informative error message if Kaleido is not installed\u001b[39;00m\n\u001b[32m    344\u001b[39m     \u001b[38;5;28;01mif\u001b[39;00m \u001b[38;5;129;01mnot\u001b[39;00m kaleido_available():\n\u001b[32m--> \u001b[39m\u001b[32m345\u001b[39m         \u001b[38;5;28;01mraise\u001b[39;00m \u001b[38;5;167;01mValueError\u001b[39;00m(\n\u001b[32m    346\u001b[39m \u001b[38;5;250m            \u001b[39m\u001b[33;03m\"\"\"\u001b[39;00m\n\u001b[32m    347\u001b[39m \u001b[33;03mImage export using the \"kaleido\" engine requires the Kaleido package,\u001b[39;00m\n\u001b[32m    348\u001b[39m \u001b[33;03mwhich can be installed using pip:\u001b[39;00m\n\u001b[32m    349\u001b[39m \n\u001b[32m    350\u001b[39m \u001b[33;03m    $ pip install --upgrade kaleido\u001b[39;00m\n\u001b[32m    351\u001b[39m \u001b[33;03m\"\"\"\u001b[39;00m\n\u001b[32m    352\u001b[39m         )\n\u001b[32m    354\u001b[39m     \u001b[38;5;66;03m# Convert figure to dict (and validate if requested)\u001b[39;00m\n\u001b[32m    355\u001b[39m     fig_dict = validate_coerce_fig_to_dict(fig, validate)\n",
            "\u001b[31mValueError\u001b[39m: \nImage export using the \"kaleido\" engine requires the Kaleido package,\nwhich can be installed using pip:\n\n    $ pip install --upgrade kaleido\n"
          ]
        }
      ],
      "source": [
        "# результат запроса\n",
        "df = pd.read_sql_query(query_7_2, connection)\n",
        "tmp_df = df.copy()\n",
        "\n",
        "# Массив распределений числовых признаков - используем коробчатую диаграмму\n",
        "fig = px.box(\n",
        "    tmp_df, # Датафрейм\n",
        "    x = \"sm\", # Ось x - ЗП\n",
        "    y = \"name\",  # Ось y - Город\n",
        "    title = 'Распределение ЗП по городам-миллионникам'  # Заголовак графика\n",
        ")\n",
        "fig.update_layout( { \"xaxis_title\": \"ЗП, руб\", \"yaxis_title\": \"Город - миллионник\"  } ) # Подписи осей\n",
        "\n",
        "# Выводим на экран\n",
        "fig.show( width = 1000, height = 800 ) # Отображаем, Ширина и высота изображения\n"
      ]
    },
    {
      "cell_type": "markdown",
      "id": "d9ea8247",
      "metadata": {},
      "source": [
        "Среди городов-миллионников по медианной ЗП с отрывом лидирует Москва, замыкает группу Волгоград"
      ]
    },
    {
      "cell_type": "markdown",
      "id": "0412d1f3",
      "metadata": {},
      "source": [
        "А теперь выберем топ 20 городов не миллионников с наибольшей средней ЗП. В качестве суммы берем полусумму границ или только 1 границу (если 2я не задана). Аномальные данные и отсутствующие по суммам данные не берем к анализу."
      ]
    },
    {
      "cell_type": "code",
      "execution_count": 57,
      "id": "384f8583",
      "metadata": {},
      "outputs": [],
      "source": [
        "\n",
        "# Попучим строку городов миллионников, разделенных запятыми и в одинарных ковычках (для sql запроса)\n",
        "towns_million = get_towns_million()\n",
        "\n",
        "# текст запроса\n",
        "query_7_2  = f'''\n",
        "select t.name, t.sm\n",
        "    from\n",
        "    (\n",
        "        select *, dense_rank() over( order by t.sm_avg desc ) as nn --Ранжируем \n",
        "            from\n",
        "            (\n",
        "                select \n",
        "                        t.*\n",
        "                        \n",
        "                        -- вычисляем анилитическими функциями среднее по городу и количество (для отсеивания выбросов)\n",
        "                        , avg( t.sm ) over( partition by t.name ) as sm_avg \n",
        "                        , count(*) over( partition by t.name ) as vacancies_cnt\n",
        "                    from\n",
        "                    (\n",
        "                        select \n",
        "                                a.name, \n",
        "                                round\n",
        "                                (\n",
        "                                    case\n",
        "                                        when v.salary_from is not null and v.salary_to is not null then (v.salary_from + v.salary_to) / 2\n",
        "                                        when v.salary_from is not null then v.salary_from\n",
        "                                        else v.salary_to\n",
        "                                    end\n",
        "                                    , 0\n",
        "                                )::int as sm\n",
        "                                \n",
        "                            from public.areas a\n",
        "                            join public.vacancies v on a.id = v.area_id\n",
        "                            where \n",
        "                                a.name not in (''' + towns_million + ''') and\n",
        "                                --v.schedule = ('Полный день', 'Удаленная работа') and\n",
        "                                (v.salary_from is not null or v.salary_to is not null)\n",
        "                    ) t   \n",
        "                    where t.sm between 30000 and 400000 --Убираем аномальные данные\n",
        "            ) t\n",
        "            where t.vacancies_cnt > 100 -- Считаем ненадежные данные по городу с менее, чкм 100 вакансиями (отбрасываем их)\n",
        "    ) t\n",
        "    where t.nn <= 20 -- Из оставшихся городов выбираем топ 20\n",
        "'''"
      ]
    },
    {
      "cell_type": "code",
      "execution_count": null,
      "id": "f00b36b8",
      "metadata": {},
      "outputs": [
        {
          "data": {
            "image/png": "[encoded data removed]"
          },
          "metadata": {},
          "output_type": "display_data"
        }
      ],
      "source": [
        "# результат запроса\n",
        "df = pd.read_sql_query(query_7_2, connection)\n",
        "tmp_df = df.copy()\n",
        "\n",
        "# Массив распределений числовых признаков - используем коробчатую диаграмму\n",
        "fig = px.box(\n",
        "    tmp_df, # Датафрейм\n",
        "    x = \"sm\", # Ось x - ЗП\n",
        "    y = \"name\",  # Ось y - Город\n",
        "    title = 'Распределение ЗП по топ 20 (кроме городов-миллионников)'  # Заголовак графика\n",
        ")\n",
        "fig.update_layout( { \"xaxis_title\": \"ЗП, руб\", \"yaxis_title\": \"Город\"  } ) # Подписи осей\n",
        "\n",
        "# Выводим на экран\n",
        "fig.show( width = 1000, height = 800 ) # Отображаем, Ширина и высота изображения\n"
      ]
    },
    {
      "cell_type": "markdown",
      "id": "6d899006",
      "metadata": {},
      "source": [
        "В остальных регионах медианная ЗП ниже (исключение - Армения)"
      ]
    },
    {
      "cell_type": "markdown",
      "id": "8e056cc6",
      "metadata": {},
      "source": [
        "# ИТОГОВЫЙ ВЫВОД\n",
        "\n",
        "1) С ростом городов растет количество вакансий в них и медианная заработная плата.\n",
        "2) Наибольший запрос вакансий предоставляют крупные работодатели федерального уровня, имеющий широкий охват регионов. \n",
        "3) Чем больше опыт, тем ниже текучка кадров, максимальное количество вакансий для соискателей с небольшим опытом.\n",
        "4) Больше всего вакансий на полную занятость.\n",
        "5) Больше всего требуется системных администраторов и специалистов 1С\n",
        "6) Средняя заработная плата для специалистов data scientis с опытом от 3 до 6 лет выше, чем в среднем по IT. И перспективное направление. Но требуется серьезная подготовка по этому интересному направлению (входной порог высокий)."
      ]
    },
    {
      "cell_type": "code",
      "execution_count": 60,
      "id": "baa6d83a",
      "metadata": {},
      "outputs": [],
      "source": [
        "import matplotlib.pyplot as plt\n",
        "import seaborn as sns"
      ]
    },
    {
      "cell_type": "code",
      "execution_count": 61,
      "id": "661a2727",
      "metadata": {},
      "outputs": [
        {
          "data": {
            "image/png": "[encoded data removed]",
            "text/plain": [
              "<Figure size 600x600 with 1 Axes>"
            ]
          },
          "metadata": {},
          "output_type": "display_data"
        }
      ],
      "source": [
        "top_10_cities = '''\n",
        "SELECT\n",
        "    COUNT(v.id) AS cnt,\n",
        "    a.name AS area\n",
        "FROM vacancies v\n",
        "JOIN areas a ON v.area_id=a.id\n",
        "GROUP BY a.name\n",
        "ORDER BY cnt DESC\n",
        "LIMIT 10\n",
        "'''\n",
        "\n",
        "df = pd.read_sql_query(top_10_cities, connection)\n",
        "\n",
        "import matplotlib.pyplot as plt\n",
        "# создадим фигуру и отрисуем график \n",
        "fig, ax = plt.subplots(figsize=(6, 6))\n",
        "ax.bar(x=df.area.values, height=df.cnt.values)\n",
        "\n",
        "# Добавим подписи данных\n",
        "for at_x, at_y in enumerate(df.cnt):\n",
        "    ax.text(at_x, at_y + 50, round(at_y, 1), horizontalalignment='center')\n",
        "\n",
        "# Повернём подписи столбцов на оси х\n",
        "plt.xticks(rotation=35, horizontalalignment='right')\n",
        "plt.tight_layout()\n",
        "\n",
        "# добавим подписи осей и графика\n",
        "ax.set(xlabel='Количество вакансий', \n",
        "       ylabel='Наименование региона', \n",
        "       title='Топ 10 регионов по количеству вакансий',\n",
        "       );\n",
        "\n",
        "\n",
        "# выведем на экран результат\n",
        "fig.show()"
      ]
    },
    {
      "cell_type": "code",
      "execution_count": 62,
      "id": "3852223f",
      "metadata": {},
      "outputs": [
        {
          "name": "stderr",
          "output_type": "stream",
          "text": [
            "C:\\Users\\Miguel\\AppData\\Local\\Temp\\ipykernel_16144\\2793566692.py:11: FutureWarning:\n",
            "\n",
            "\n",
            "\n",
            "Passing `palette` without assigning `hue` is deprecated and will be removed in v0.14.0. Assign the `x` variable to `hue` and set `legend=False` for the same effect.\n",
            "\n",
            "\n"
          ]
        },
        {
          "data": {
            "image/png": "[encoded data removed]",
            "text/plain": [
              "<Figure size 640x480 with 1 Axes>"
            ]
          },
          "metadata": {},
          "output_type": "display_data"
        }
      ],
      "source": [
        "query_4_1 = f'''\n",
        "SELECT a.name area, COUNT(v.area_id) cnt\n",
        "FROM vacancies v JOIN areas a ON v.area_id = a.id\n",
        "GROUP BY a.id, a.name\n",
        "ORDER BY 2 DESC\n",
        "LIMIT 5\n",
        "'''\n",
        "df = pd.read_sql_query(query_4_1, connection)\n",
        "\n",
        "filtred_color = [('tab:red' if x > 3000 else 'tab:blue') for x in df.cnt]\n",
        "sns.barplot(df, x='area', y='cnt', palette=filtred_color);"
      ]
    },
    {
      "cell_type": "code",
      "execution_count": 63,
      "id": "7d8a76fc",
      "metadata": {},
      "outputs": [
        {
          "data": {
            "image/png": "[encoded data removed]",
            "text/plain": [
              "<Figure size 640x480 with 1 Axes>"
            ]
          },
          "metadata": {},
          "output_type": "display_data"
        }
      ],
      "source": [
        "query_4_5 = f'''\n",
        "SELECT experience, COUNT(id)\n",
        "FROM vacancies\n",
        "GROUP BY 1\n",
        "ORDER BY 2\n",
        "'''\n",
        "df = pd.read_sql_query(query_4_5, connection)\n",
        "\n",
        "plt.pie(\n",
        "    df['count'],\n",
        "    labels = df['experience'].values,\n",
        "    autopct = '%.2f%%',\n",
        "    explode = (0.05, 0.1, 0, 0.05),\n",
        "    wedgeprops = {'lw':0.8,'edgecolor':'k'},   \n",
        ");"
      ]
    },
    {
      "cell_type": "code",
      "execution_count": 64,
      "id": "cfe924a2",
      "metadata": {},
      "outputs": [
        {
          "data": {
            "image/png": "[encoded data removed]",
            "text/plain": [
              "<Figure size 640x480 with 1 Axes>"
            ]
          },
          "metadata": {},
          "output_type": "display_data"
        }
      ],
      "source": [
        "query_4_3 = f'''\n",
        "SELECT salary_from as salary_from, salary_to as salary_to\n",
        "FROM vacancies\n",
        "'''\n",
        "df = pd.read_sql_query(query_4_3, connection)\n",
        "df.dropna(inplace=True)\n",
        "sns.histplot(data=df, bins=30);"
      ]
    },
    {
      "cell_type": "code",
      "execution_count": 65,
      "id": "567ec1df",
      "metadata": {},
      "outputs": [],
      "source": [
        "# Закрываемм дорогостоящий ресурс - соединение\n",
        "connection.close()"
      ]
    }
  ],
  "metadata": {
    "colab": {
      "collapsed_sections": [
        "8d62a9f3-f64e-4fe7-bdac-c4dffa16155e"
      ],
      "provenance": []
    },
    "kernelspec": {
      "display_name": ".venv",
      "language": "python",
      "name": "python3"
    },
    "language_info": {
      "codemirror_mode": {
        "name": "ipython",
        "version": 3
      },
      "file_extension": ".py",
      "mimetype": "text/x-python",
      "name": "python",
      "nbconvert_exporter": "python",
      "pygments_lexer": "ipython3",
      "version": "3.11.9"
    }
  },
  "nbformat": 4,
  "nbformat_minor": 5
}
